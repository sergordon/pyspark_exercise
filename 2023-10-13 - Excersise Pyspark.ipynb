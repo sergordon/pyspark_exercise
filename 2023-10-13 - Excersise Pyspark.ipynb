{
 "cells": [
  {
   "cell_type": "markdown",
   "metadata": {
    "application/vnd.databricks.v1+cell": {
     "cellMetadata": {},
     "inputWidgets": {},
     "nuid": "4e76bf6b-7060-498d-a3be-fc10d0e7f72c",
     "showTitle": false,
     "title": ""
    }
   },
   "source": [
    "### Load csv file"
   ]
  },
  {
   "cell_type": "code",
   "execution_count": 0,
   "metadata": {
    "application/vnd.databricks.v1+cell": {
     "cellMetadata": {
      "byteLimit": 2048000,
      "rowLimit": 10000
     },
     "inputWidgets": {},
     "nuid": "6482be4c-f067-47c9-b0ac-35c938b94601",
     "showTitle": false,
     "title": ""
    }
   },
   "outputs": [
    {
     "output_type": "display_data",
     "data": {
      "text/html": [
       "<style scoped>\n",
       "  .table-result-container {\n",
       "    max-height: 300px;\n",
       "    overflow: auto;\n",
       "  }\n",
       "  table, th, td {\n",
       "    border: 1px solid black;\n",
       "    border-collapse: collapse;\n",
       "  }\n",
       "  th, td {\n",
       "    padding: 5px;\n",
       "  }\n",
       "  th {\n",
       "    text-align: left;\n",
       "  }\n",
       "</style><div class='table-result-container'><table class='table-result'><thead style='background-color: white'><tr><th>orig</th><th>dest</th><th>id</th><th>actl_dep_lcl_tms</th><th>actl_arr_lcl_tms</th><th>flight_num</th><th>flights</th><th>acft_regs_cde</th><th>airborne_lcl_tms</th><th>landing_lcl_tms</th></tr></thead><tbody><tr><td>YYZ</td><td>YVR</td><td>1</td><td>2022-12-31T20:36:00</td><td>2022-12-31T22:28:00</td><td>127</td><td>1</td><td>737</td><td>2022-12-31T21:02:00</td><td>2022-12-31T22:17:00</td></tr><tr><td>YYZ</td><td>YVR</td><td>2</td><td>2022-12-31T19:39:00</td><td>2022-12-31T21:22:00</td><td>185</td><td>1</td><td>451</td><td>2022-12-31T20:05:00</td><td>2022-12-31T21:14:00</td></tr><tr><td>YYZ</td><td>YVR</td><td>3</td><td>2022-12-31T18:53:00</td><td>2022-12-31T20:33:00</td><td>123</td><td>1</td><td>843</td><td>2022-12-31T19:10:00</td><td>2022-12-31T20:22:00</td></tr><tr><td>YYZ</td><td>YVR</td><td>4</td><td>2022-12-31T17:27:00</td><td>2022-12-31T19:00:00</td><td>121</td><td>1</td><td>747</td><td>2022-12-31T17:43:00</td><td>2022-12-31T18:53:00</td></tr><tr><td>YYZ</td><td>YVR</td><td>5</td><td>2022-12-31T16:44:00</td><td>2022-12-31T18:31:00</td><td>119</td><td>1</td><td>464</td><td>2022-12-31T16:56:00</td><td>2022-12-31T18:23:00</td></tr><tr><td>YYZ</td><td>YVR</td><td>6</td><td>2022-12-31T14:35:00</td><td>2022-12-31T16:43:00</td><td>113</td><td>1</td><td>743</td><td>2022-12-31T15:04:00</td><td>2022-12-31T16:35:00</td></tr><tr><td>YYZ</td><td>YVR</td><td>7</td><td>2022-12-31T13:08:00</td><td>2022-12-31T14:53:00</td><td>111</td><td>1</td><td>462</td><td>2022-12-31T13:20:00</td><td>2022-12-31T14:46:00</td></tr><tr><td>YYZ</td><td>YVR</td><td>8</td><td>2022-12-31T11:23:00</td><td>2022-12-31T13:03:00</td><td>105</td><td>1</td><td>735</td><td>2022-12-31T11:40:00</td><td>2022-12-31T12:54:00</td></tr><tr><td>YYZ</td><td>YVR</td><td>9</td><td>2022-12-31T10:18:00</td><td>2022-12-31T12:27:00</td><td>107</td><td>1</td><td>457</td><td>2022-12-31T10:39:00</td><td>2022-12-31T12:08:00</td></tr><tr><td>YYZ</td><td>YVR</td><td>10</td><td>2022-12-31T08:50:00</td><td>2022-12-31T10:38:00</td><td>103</td><td>1</td><td>451</td><td>2022-12-31T09:13:00</td><td>2022-12-31T10:28:00</td></tr><tr><td>YVR</td><td>YYZ</td><td>12</td><td>2022-12-31T16:02:00</td><td>2022-12-31T23:20:00</td><td>120</td><td>1</td><td>462</td><td>2022-12-31T16:15:00</td><td>2022-12-31T23:10:00</td></tr><tr><td>YVR</td><td>YYZ</td><td>13</td><td>2022-12-31T14:58:00</td><td>2022-12-31T22:20:00</td><td>116</td><td>1</td><td>735</td><td>2022-12-31T15:16:00</td><td>2022-12-31T22:00:00</td></tr><tr><td>YVR</td><td>YYZ</td><td>14</td><td>2022-12-31T14:02:00</td><td>2022-12-31T21:28:00</td><td>118</td><td>1</td><td>457</td><td>2022-12-31T14:13:00</td><td>2022-12-31T21:15:00</td></tr><tr><td>YVR</td><td>YYZ</td><td>15</td><td>2022-12-31T12:47:00</td><td>2022-12-31T19:59:00</td><td>114</td><td>1</td><td>738</td><td>2022-12-31T13:05:00</td><td>2022-12-31T19:48:00</td></tr><tr><td>YVR</td><td>YYZ</td><td>16</td><td>2022-12-31T11:55:00</td><td>2022-12-31T19:10:00</td><td>106</td><td>1</td><td>451</td><td>2022-12-31T12:10:00</td><td>2022-12-31T18:55:00</td></tr><tr><td>YVR</td><td>YYZ</td><td>17</td><td>2022-12-31T10:08:00</td><td>2022-12-31T17:27:00</td><td>110</td><td>1</td><td>737</td><td>2022-12-31T10:23:00</td><td>2022-12-31T17:15:00</td></tr><tr><td>YVR</td><td>YYZ</td><td>18</td><td>2022-12-31T09:48:00</td><td>2022-12-31T16:58:00</td><td>108</td><td>1</td><td>747</td><td>2022-12-31T10:02:00</td><td>2022-12-31T16:50:00</td></tr><tr><td>YVR</td><td>YYZ</td><td>19</td><td>2022-12-31T08:07:00</td><td>2022-12-31T15:19:00</td><td>104</td><td>1</td><td>843</td><td>2022-12-31T08:24:00</td><td>2022-12-31T15:10:00</td></tr><tr><td>YVR</td><td>YYZ</td><td>20</td><td>2022-12-31T06:04:00</td><td>2022-12-31T13:24:00</td><td>100</td><td>1</td><td>743</td><td>2022-12-31T06:23:00</td><td>2022-12-31T13:16:00</td></tr><tr><td>YVR</td><td>YYZ</td><td>21</td><td>2022-12-31T00:29:00</td><td>2022-12-31T08:27:00</td><td>128</td><td>1</td><td>451</td><td>2022-12-31T01:01:00</td><td>2022-12-31T08:11:00</td></tr></tbody></table></div>"
      ]
     },
     "metadata": {
      "application/vnd.databricks.v1+output": {
       "addedWidgets": {},
       "aggData": [],
       "aggError": "",
       "aggOverflow": false,
       "aggSchema": [],
       "aggSeriesLimitReached": false,
       "aggType": "",
       "arguments": {},
       "columnCustomDisplayInfos": {},
       "data": [
        [
         "YYZ",
         "YVR",
         "1",
         "2022-12-31T20:36:00",
         "2022-12-31T22:28:00",
         "127",
         "1",
         "737",
         "2022-12-31T21:02:00",
         "2022-12-31T22:17:00"
        ],
        [
         "YYZ",
         "YVR",
         "2",
         "2022-12-31T19:39:00",
         "2022-12-31T21:22:00",
         "185",
         "1",
         "451",
         "2022-12-31T20:05:00",
         "2022-12-31T21:14:00"
        ],
        [
         "YYZ",
         "YVR",
         "3",
         "2022-12-31T18:53:00",
         "2022-12-31T20:33:00",
         "123",
         "1",
         "843",
         "2022-12-31T19:10:00",
         "2022-12-31T20:22:00"
        ],
        [
         "YYZ",
         "YVR",
         "4",
         "2022-12-31T17:27:00",
         "2022-12-31T19:00:00",
         "121",
         "1",
         "747",
         "2022-12-31T17:43:00",
         "2022-12-31T18:53:00"
        ],
        [
         "YYZ",
         "YVR",
         "5",
         "2022-12-31T16:44:00",
         "2022-12-31T18:31:00",
         "119",
         "1",
         "464",
         "2022-12-31T16:56:00",
         "2022-12-31T18:23:00"
        ],
        [
         "YYZ",
         "YVR",
         "6",
         "2022-12-31T14:35:00",
         "2022-12-31T16:43:00",
         "113",
         "1",
         "743",
         "2022-12-31T15:04:00",
         "2022-12-31T16:35:00"
        ],
        [
         "YYZ",
         "YVR",
         "7",
         "2022-12-31T13:08:00",
         "2022-12-31T14:53:00",
         "111",
         "1",
         "462",
         "2022-12-31T13:20:00",
         "2022-12-31T14:46:00"
        ],
        [
         "YYZ",
         "YVR",
         "8",
         "2022-12-31T11:23:00",
         "2022-12-31T13:03:00",
         "105",
         "1",
         "735",
         "2022-12-31T11:40:00",
         "2022-12-31T12:54:00"
        ],
        [
         "YYZ",
         "YVR",
         "9",
         "2022-12-31T10:18:00",
         "2022-12-31T12:27:00",
         "107",
         "1",
         "457",
         "2022-12-31T10:39:00",
         "2022-12-31T12:08:00"
        ],
        [
         "YYZ",
         "YVR",
         "10",
         "2022-12-31T08:50:00",
         "2022-12-31T10:38:00",
         "103",
         "1",
         "451",
         "2022-12-31T09:13:00",
         "2022-12-31T10:28:00"
        ],
        [
         "YVR",
         "YYZ",
         "12",
         "2022-12-31T16:02:00",
         "2022-12-31T23:20:00",
         "120",
         "1",
         "462",
         "2022-12-31T16:15:00",
         "2022-12-31T23:10:00"
        ],
        [
         "YVR",
         "YYZ",
         "13",
         "2022-12-31T14:58:00",
         "2022-12-31T22:20:00",
         "116",
         "1",
         "735",
         "2022-12-31T15:16:00",
         "2022-12-31T22:00:00"
        ],
        [
         "YVR",
         "YYZ",
         "14",
         "2022-12-31T14:02:00",
         "2022-12-31T21:28:00",
         "118",
         "1",
         "457",
         "2022-12-31T14:13:00",
         "2022-12-31T21:15:00"
        ],
        [
         "YVR",
         "YYZ",
         "15",
         "2022-12-31T12:47:00",
         "2022-12-31T19:59:00",
         "114",
         "1",
         "738",
         "2022-12-31T13:05:00",
         "2022-12-31T19:48:00"
        ],
        [
         "YVR",
         "YYZ",
         "16",
         "2022-12-31T11:55:00",
         "2022-12-31T19:10:00",
         "106",
         "1",
         "451",
         "2022-12-31T12:10:00",
         "2022-12-31T18:55:00"
        ],
        [
         "YVR",
         "YYZ",
         "17",
         "2022-12-31T10:08:00",
         "2022-12-31T17:27:00",
         "110",
         "1",
         "737",
         "2022-12-31T10:23:00",
         "2022-12-31T17:15:00"
        ],
        [
         "YVR",
         "YYZ",
         "18",
         "2022-12-31T09:48:00",
         "2022-12-31T16:58:00",
         "108",
         "1",
         "747",
         "2022-12-31T10:02:00",
         "2022-12-31T16:50:00"
        ],
        [
         "YVR",
         "YYZ",
         "19",
         "2022-12-31T08:07:00",
         "2022-12-31T15:19:00",
         "104",
         "1",
         "843",
         "2022-12-31T08:24:00",
         "2022-12-31T15:10:00"
        ],
        [
         "YVR",
         "YYZ",
         "20",
         "2022-12-31T06:04:00",
         "2022-12-31T13:24:00",
         "100",
         "1",
         "743",
         "2022-12-31T06:23:00",
         "2022-12-31T13:16:00"
        ],
        [
         "YVR",
         "YYZ",
         "21",
         "2022-12-31T00:29:00",
         "2022-12-31T08:27:00",
         "128",
         "1",
         "451",
         "2022-12-31T01:01:00",
         "2022-12-31T08:11:00"
        ]
       ],
       "datasetInfos": [],
       "dbfsResultPath": null,
       "isJsonSchema": true,
       "metadata": {},
       "overflow": false,
       "plotOptions": {
        "customPlotOptions": {},
        "displayType": "table",
        "pivotAggregation": null,
        "pivotColumns": null,
        "xColumns": null,
        "yColumns": null
       },
       "removedWidgets": [],
       "schema": [
        {
         "metadata": "{}",
         "name": "orig",
         "type": "\"string\""
        },
        {
         "metadata": "{}",
         "name": "dest",
         "type": "\"string\""
        },
        {
         "metadata": "{}",
         "name": "id",
         "type": "\"string\""
        },
        {
         "metadata": "{}",
         "name": "actl_dep_lcl_tms",
         "type": "\"string\""
        },
        {
         "metadata": "{}",
         "name": "actl_arr_lcl_tms",
         "type": "\"string\""
        },
        {
         "metadata": "{}",
         "name": "flight_num",
         "type": "\"string\""
        },
        {
         "metadata": "{}",
         "name": "flights",
         "type": "\"string\""
        },
        {
         "metadata": "{}",
         "name": "acft_regs_cde",
         "type": "\"string\""
        },
        {
         "metadata": "{}",
         "name": "airborne_lcl_tms",
         "type": "\"string\""
        },
        {
         "metadata": "{}",
         "name": "landing_lcl_tms",
         "type": "\"string\""
        }
       ],
       "type": "table"
      }
     },
     "output_type": "display_data"
    }
   ],
   "source": [
    "# File location and type\n",
    "file_location = \"/FileStore/tables/Data_Engineer_exercise-1.csv\"\n",
    "file_type = \"csv\"\n",
    "\n",
    "# CSV options\n",
    "infer_schema = \"false\"\n",
    "first_row_is_header = \"true\"\n",
    "delimiter = \";\"\n",
    "\n",
    "# The applied options are for CSV files. For other file types, these will be ignored.\n",
    "df = spark.read.format(file_type) \\\n",
    "  .option(\"inferSchema\", infer_schema) \\\n",
    "  .option(\"header\", first_row_is_header) \\\n",
    "  .option(\"sep\", delimiter) \\\n",
    "  .load(file_location)\n",
    "\n",
    "display(df)"
   ]
  },
  {
   "cell_type": "markdown",
   "metadata": {
    "application/vnd.databricks.v1+cell": {
     "cellMetadata": {
      "byteLimit": 2048000,
      "rowLimit": 10000
     },
     "inputWidgets": {},
     "nuid": "0d26f4f5-e14e-4618-9ad3-5ac3aa55d779",
     "showTitle": false,
     "title": ""
    }
   },
   "source": [
    "###Imports"
   ]
  },
  {
   "cell_type": "code",
   "execution_count": 0,
   "metadata": {
    "application/vnd.databricks.v1+cell": {
     "cellMetadata": {
      "byteLimit": 2048000,
      "rowLimit": 10000
     },
     "inputWidgets": {},
     "nuid": "789c6231-319b-4a6c-807c-faede35c429e",
     "showTitle": false,
     "title": ""
    }
   },
   "outputs": [],
   "source": [
    "from pyspark.sql.functions import *\n",
    "from datetime import datetime\n",
    "import datetime\n",
    "from pyspark.sql.types import *\n",
    "from pyspark.sql.window import Window\n",
    "from pyspark.sql.functions import *"
   ]
  },
  {
   "cell_type": "markdown",
   "metadata": {
    "application/vnd.databricks.v1+cell": {
     "cellMetadata": {
      "byteLimit": 2048000,
      "rowLimit": 10000
     },
     "inputWidgets": {},
     "nuid": "0b3e2de8-146d-4980-8c98-30906d8def25",
     "showTitle": false,
     "title": ""
    }
   },
   "source": [
    "###Exercise 1\n",
    "#### The turn is computed based on airborne lcl tms field, the data set is sorted with this field and the next flight is gotten with the lead window function."
   ]
  },
  {
   "cell_type": "code",
   "execution_count": 0,
   "metadata": {
    "application/vnd.databricks.v1+cell": {
     "cellMetadata": {
      "byteLimit": 2048000,
      "rowLimit": 10000
     },
     "inputWidgets": {},
     "nuid": "bd82bb99-1479-4d5c-be10-8c36df0f1d44",
     "showTitle": false,
     "title": ""
    }
   },
   "outputs": [
    {
     "output_type": "display_data",
     "data": {
      "text/html": [
       "<style scoped>\n",
       "  .table-result-container {\n",
       "    max-height: 300px;\n",
       "    overflow: auto;\n",
       "  }\n",
       "  table, th, td {\n",
       "    border: 1px solid black;\n",
       "    border-collapse: collapse;\n",
       "  }\n",
       "  th, td {\n",
       "    padding: 5px;\n",
       "  }\n",
       "  th {\n",
       "    text-align: left;\n",
       "  }\n",
       "</style><div class='table-result-container'><table class='table-result'><thead style='background-color: white'><tr><th>takeoff_order</th><th>takeoff_time</th><th>id</th><th>flight_num</th><th>orig</th><th>dest</th><th>departure_time</th><th>arrival_time</th><th>landing_time</th><th>next_flight</th></tr></thead><tbody><tr><td>1</td><td>2022-12-31T01:01:00</td><td>21</td><td>128</td><td>YVR</td><td>YYZ</td><td>2022-12-31T00:29:00</td><td>2022-12-31T08:27:00</td><td>2022-12-31T08:11:00</td><td>20</td></tr><tr><td>2</td><td>2022-12-31T06:23:00</td><td>20</td><td>100</td><td>YVR</td><td>YYZ</td><td>2022-12-31T06:04:00</td><td>2022-12-31T13:24:00</td><td>2022-12-31T13:16:00</td><td>19</td></tr><tr><td>3</td><td>2022-12-31T08:24:00</td><td>19</td><td>104</td><td>YVR</td><td>YYZ</td><td>2022-12-31T08:07:00</td><td>2022-12-31T15:19:00</td><td>2022-12-31T15:10:00</td><td>10</td></tr><tr><td>4</td><td>2022-12-31T09:13:00</td><td>10</td><td>103</td><td>YYZ</td><td>YVR</td><td>2022-12-31T08:50:00</td><td>2022-12-31T10:38:00</td><td>2022-12-31T10:28:00</td><td>18</td></tr><tr><td>5</td><td>2022-12-31T10:02:00</td><td>18</td><td>108</td><td>YVR</td><td>YYZ</td><td>2022-12-31T09:48:00</td><td>2022-12-31T16:58:00</td><td>2022-12-31T16:50:00</td><td>17</td></tr><tr><td>6</td><td>2022-12-31T10:23:00</td><td>17</td><td>110</td><td>YVR</td><td>YYZ</td><td>2022-12-31T10:08:00</td><td>2022-12-31T17:27:00</td><td>2022-12-31T17:15:00</td><td>9</td></tr><tr><td>7</td><td>2022-12-31T10:39:00</td><td>9</td><td>107</td><td>YYZ</td><td>YVR</td><td>2022-12-31T10:18:00</td><td>2022-12-31T12:27:00</td><td>2022-12-31T12:08:00</td><td>8</td></tr><tr><td>8</td><td>2022-12-31T11:40:00</td><td>8</td><td>105</td><td>YYZ</td><td>YVR</td><td>2022-12-31T11:23:00</td><td>2022-12-31T13:03:00</td><td>2022-12-31T12:54:00</td><td>16</td></tr><tr><td>9</td><td>2022-12-31T12:10:00</td><td>16</td><td>106</td><td>YVR</td><td>YYZ</td><td>2022-12-31T11:55:00</td><td>2022-12-31T19:10:00</td><td>2022-12-31T18:55:00</td><td>15</td></tr><tr><td>10</td><td>2022-12-31T13:05:00</td><td>15</td><td>114</td><td>YVR</td><td>YYZ</td><td>2022-12-31T12:47:00</td><td>2022-12-31T19:59:00</td><td>2022-12-31T19:48:00</td><td>7</td></tr><tr><td>11</td><td>2022-12-31T13:20:00</td><td>7</td><td>111</td><td>YYZ</td><td>YVR</td><td>2022-12-31T13:08:00</td><td>2022-12-31T14:53:00</td><td>2022-12-31T14:46:00</td><td>14</td></tr><tr><td>12</td><td>2022-12-31T14:13:00</td><td>14</td><td>118</td><td>YVR</td><td>YYZ</td><td>2022-12-31T14:02:00</td><td>2022-12-31T21:28:00</td><td>2022-12-31T21:15:00</td><td>6</td></tr><tr><td>13</td><td>2022-12-31T15:04:00</td><td>6</td><td>113</td><td>YYZ</td><td>YVR</td><td>2022-12-31T14:35:00</td><td>2022-12-31T16:43:00</td><td>2022-12-31T16:35:00</td><td>13</td></tr><tr><td>14</td><td>2022-12-31T15:16:00</td><td>13</td><td>116</td><td>YVR</td><td>YYZ</td><td>2022-12-31T14:58:00</td><td>2022-12-31T22:20:00</td><td>2022-12-31T22:00:00</td><td>12</td></tr><tr><td>15</td><td>2022-12-31T16:15:00</td><td>12</td><td>120</td><td>YVR</td><td>YYZ</td><td>2022-12-31T16:02:00</td><td>2022-12-31T23:20:00</td><td>2022-12-31T23:10:00</td><td>5</td></tr><tr><td>16</td><td>2022-12-31T16:56:00</td><td>5</td><td>119</td><td>YYZ</td><td>YVR</td><td>2022-12-31T16:44:00</td><td>2022-12-31T18:31:00</td><td>2022-12-31T18:23:00</td><td>4</td></tr><tr><td>17</td><td>2022-12-31T17:43:00</td><td>4</td><td>121</td><td>YYZ</td><td>YVR</td><td>2022-12-31T17:27:00</td><td>2022-12-31T19:00:00</td><td>2022-12-31T18:53:00</td><td>3</td></tr><tr><td>18</td><td>2022-12-31T19:10:00</td><td>3</td><td>123</td><td>YYZ</td><td>YVR</td><td>2022-12-31T18:53:00</td><td>2022-12-31T20:33:00</td><td>2022-12-31T20:22:00</td><td>2</td></tr><tr><td>19</td><td>2022-12-31T20:05:00</td><td>2</td><td>185</td><td>YYZ</td><td>YVR</td><td>2022-12-31T19:39:00</td><td>2022-12-31T21:22:00</td><td>2022-12-31T21:14:00</td><td>1</td></tr><tr><td>20</td><td>2022-12-31T21:02:00</td><td>1</td><td>127</td><td>YYZ</td><td>YVR</td><td>2022-12-31T20:36:00</td><td>2022-12-31T22:28:00</td><td>2022-12-31T22:17:00</td><td>null</td></tr></tbody></table></div>"
      ]
     },
     "metadata": {
      "application/vnd.databricks.v1+output": {
       "addedWidgets": {},
       "aggData": [],
       "aggError": "",
       "aggOverflow": false,
       "aggSchema": [],
       "aggSeriesLimitReached": false,
       "aggType": "",
       "arguments": {},
       "columnCustomDisplayInfos": {},
       "data": [
        [
         1,
         "2022-12-31T01:01:00",
         "21",
         "128",
         "YVR",
         "YYZ",
         "2022-12-31T00:29:00",
         "2022-12-31T08:27:00",
         "2022-12-31T08:11:00",
         "20"
        ],
        [
         2,
         "2022-12-31T06:23:00",
         "20",
         "100",
         "YVR",
         "YYZ",
         "2022-12-31T06:04:00",
         "2022-12-31T13:24:00",
         "2022-12-31T13:16:00",
         "19"
        ],
        [
         3,
         "2022-12-31T08:24:00",
         "19",
         "104",
         "YVR",
         "YYZ",
         "2022-12-31T08:07:00",
         "2022-12-31T15:19:00",
         "2022-12-31T15:10:00",
         "10"
        ],
        [
         4,
         "2022-12-31T09:13:00",
         "10",
         "103",
         "YYZ",
         "YVR",
         "2022-12-31T08:50:00",
         "2022-12-31T10:38:00",
         "2022-12-31T10:28:00",
         "18"
        ],
        [
         5,
         "2022-12-31T10:02:00",
         "18",
         "108",
         "YVR",
         "YYZ",
         "2022-12-31T09:48:00",
         "2022-12-31T16:58:00",
         "2022-12-31T16:50:00",
         "17"
        ],
        [
         6,
         "2022-12-31T10:23:00",
         "17",
         "110",
         "YVR",
         "YYZ",
         "2022-12-31T10:08:00",
         "2022-12-31T17:27:00",
         "2022-12-31T17:15:00",
         "9"
        ],
        [
         7,
         "2022-12-31T10:39:00",
         "9",
         "107",
         "YYZ",
         "YVR",
         "2022-12-31T10:18:00",
         "2022-12-31T12:27:00",
         "2022-12-31T12:08:00",
         "8"
        ],
        [
         8,
         "2022-12-31T11:40:00",
         "8",
         "105",
         "YYZ",
         "YVR",
         "2022-12-31T11:23:00",
         "2022-12-31T13:03:00",
         "2022-12-31T12:54:00",
         "16"
        ],
        [
         9,
         "2022-12-31T12:10:00",
         "16",
         "106",
         "YVR",
         "YYZ",
         "2022-12-31T11:55:00",
         "2022-12-31T19:10:00",
         "2022-12-31T18:55:00",
         "15"
        ],
        [
         10,
         "2022-12-31T13:05:00",
         "15",
         "114",
         "YVR",
         "YYZ",
         "2022-12-31T12:47:00",
         "2022-12-31T19:59:00",
         "2022-12-31T19:48:00",
         "7"
        ],
        [
         11,
         "2022-12-31T13:20:00",
         "7",
         "111",
         "YYZ",
         "YVR",
         "2022-12-31T13:08:00",
         "2022-12-31T14:53:00",
         "2022-12-31T14:46:00",
         "14"
        ],
        [
         12,
         "2022-12-31T14:13:00",
         "14",
         "118",
         "YVR",
         "YYZ",
         "2022-12-31T14:02:00",
         "2022-12-31T21:28:00",
         "2022-12-31T21:15:00",
         "6"
        ],
        [
         13,
         "2022-12-31T15:04:00",
         "6",
         "113",
         "YYZ",
         "YVR",
         "2022-12-31T14:35:00",
         "2022-12-31T16:43:00",
         "2022-12-31T16:35:00",
         "13"
        ],
        [
         14,
         "2022-12-31T15:16:00",
         "13",
         "116",
         "YVR",
         "YYZ",
         "2022-12-31T14:58:00",
         "2022-12-31T22:20:00",
         "2022-12-31T22:00:00",
         "12"
        ],
        [
         15,
         "2022-12-31T16:15:00",
         "12",
         "120",
         "YVR",
         "YYZ",
         "2022-12-31T16:02:00",
         "2022-12-31T23:20:00",
         "2022-12-31T23:10:00",
         "5"
        ],
        [
         16,
         "2022-12-31T16:56:00",
         "5",
         "119",
         "YYZ",
         "YVR",
         "2022-12-31T16:44:00",
         "2022-12-31T18:31:00",
         "2022-12-31T18:23:00",
         "4"
        ],
        [
         17,
         "2022-12-31T17:43:00",
         "4",
         "121",
         "YYZ",
         "YVR",
         "2022-12-31T17:27:00",
         "2022-12-31T19:00:00",
         "2022-12-31T18:53:00",
         "3"
        ],
        [
         18,
         "2022-12-31T19:10:00",
         "3",
         "123",
         "YYZ",
         "YVR",
         "2022-12-31T18:53:00",
         "2022-12-31T20:33:00",
         "2022-12-31T20:22:00",
         "2"
        ],
        [
         19,
         "2022-12-31T20:05:00",
         "2",
         "185",
         "YYZ",
         "YVR",
         "2022-12-31T19:39:00",
         "2022-12-31T21:22:00",
         "2022-12-31T21:14:00",
         "1"
        ],
        [
         20,
         "2022-12-31T21:02:00",
         "1",
         "127",
         "YYZ",
         "YVR",
         "2022-12-31T20:36:00",
         "2022-12-31T22:28:00",
         "2022-12-31T22:17:00",
         null
        ]
       ],
       "datasetInfos": [],
       "dbfsResultPath": null,
       "isJsonSchema": true,
       "metadata": {},
       "overflow": false,
       "plotOptions": {
        "customPlotOptions": {},
        "displayType": "table",
        "pivotAggregation": null,
        "pivotColumns": null,
        "xColumns": null,
        "yColumns": null
       },
       "removedWidgets": [],
       "schema": [
        {
         "metadata": "{}",
         "name": "takeoff_order",
         "type": "\"integer\""
        },
        {
         "metadata": "{}",
         "name": "takeoff_time",
         "type": "\"string\""
        },
        {
         "metadata": "{}",
         "name": "id",
         "type": "\"string\""
        },
        {
         "metadata": "{}",
         "name": "flight_num",
         "type": "\"string\""
        },
        {
         "metadata": "{}",
         "name": "orig",
         "type": "\"string\""
        },
        {
         "metadata": "{}",
         "name": "dest",
         "type": "\"string\""
        },
        {
         "metadata": "{}",
         "name": "departure_time",
         "type": "\"string\""
        },
        {
         "metadata": "{}",
         "name": "arrival_time",
         "type": "\"string\""
        },
        {
         "metadata": "{}",
         "name": "landing_time",
         "type": "\"string\""
        },
        {
         "metadata": "{}",
         "name": "next_flight",
         "type": "\"string\""
        }
       ],
       "type": "table"
      }
     },
     "output_type": "display_data"
    }
   ],
   "source": [
    "wind = Window.partitionBy('flights').orderBy('airborne_lcl_tms')\n",
    "df_string_flights = df.withColumn(\"takeoff_order\", row_number().over(wind))\\\n",
    "                    .withColumn(\"next_flight\", lead('id', 1).over(wind))\\\n",
    "                    .select('takeoff_order', col('airborne_lcl_tms').alias('takeoff_time'), 'id', 'flight_num' , 'orig', 'dest',\n",
    "                        col('actl_dep_lcl_tms').alias('departure_time'), col('actl_arr_lcl_tms').alias('arrival_time'), col('landing_lcl_tms').alias('landing_time'), 'next_flight')\n",
    "display(df_string_flights)"
   ]
  },
  {
   "cell_type": "markdown",
   "metadata": {
    "application/vnd.databricks.v1+cell": {
     "cellMetadata": {
      "byteLimit": 2048000,
      "rowLimit": 10000
     },
     "inputWidgets": {},
     "nuid": "a57ce6ea-02c3-456a-939e-8f8180d07e08",
     "showTitle": false,
     "title": ""
    }
   },
   "source": [
    "###Exercise 2"
   ]
  },
  {
   "cell_type": "code",
   "execution_count": 0,
   "metadata": {
    "application/vnd.databricks.v1+cell": {
     "cellMetadata": {
      "byteLimit": 2048000,
      "rowLimit": 10000
     },
     "inputWidgets": {},
     "nuid": "768024a9-feb9-43bf-8db0-13586d5c0b14",
     "showTitle": false,
     "title": ""
    }
   },
   "outputs": [],
   "source": [
    "# Convert string fields representing dates as timestamp.\n",
    "df_cast = df.select('orig', 'dest', 'id', 'flight_num', 'flights', col('actl_dep_lcl_tms').cast(TimestampType()), col('actl_arr_lcl_tms').cast(TimestampType()))\n"
   ]
  },
  {
   "cell_type": "code",
   "execution_count": 0,
   "metadata": {
    "application/vnd.databricks.v1+cell": {
     "cellMetadata": {
      "byteLimit": 2048000,
      "rowLimit": 10000
     },
     "inputWidgets": {},
     "nuid": "7338f3b7-7d9a-4236-a311-ba707ab83054",
     "showTitle": false,
     "title": ""
    }
   },
   "outputs": [],
   "source": [
    "# Variables that allow to bound the range of timestamps\n",
    "min_date = datetime.datetime.strptime((df.agg(min('actl_dep_lcl_tms')).first()[0])[:10] + \" 00:00:00\", '%Y-%m-%d %H:%M:%S')\n",
    "max_date = datetime.datetime.strptime((df.agg(max('actl_arr_lcl_tms')).first()[0])[:10] + \" 23:59:59\", '%Y-%m-%d %H:%M:%S')\n",
    "\n",
    "# Specify delta value to get intervals of 15 minutes\n",
    "delta_minutes = datetime.timedelta(minutes = 15)\n",
    "datetime_list = []\n",
    "i = min_date\n",
    "j = 0\n",
    "while i < max_date - delta_minutes:\n",
    "    datetime_list.append(min_date + j * delta_minutes)\n",
    "    i = min_date + j * delta_minutes\n",
    "    j += 1\n",
    "\n",
    "# Dataframe with datetime from minimun date to maximun date and with interval of 15 minutes.    \n",
    "df_dates = spark.createDataFrame(datetime_list, TimestampType())\\\n",
    "            .withColumnRenamed('value', 'interval_date') "
   ]
  },
  {
   "cell_type": "code",
   "execution_count": 0,
   "metadata": {
    "application/vnd.databricks.v1+cell": {
     "cellMetadata": {
      "byteLimit": 2048000,
      "rowLimit": 10000
     },
     "inputWidgets": {},
     "nuid": "44b42263-1025-4fbe-8fb4-a9016753095b",
     "showTitle": false,
     "title": ""
    }
   },
   "outputs": [],
   "source": [
    "\n",
    "# Cartesian product of airports code of origin vs dates with interval.\n",
    "df_out_dates = df.groupBy('orig').agg(count('*').alias('cuenta'))\\\n",
    "                .select(col('orig').alias('orig1'))\\\n",
    "                .join(df_dates, on=None, how='cross')\\\n",
    "                .withColumn('next_interval', lead('interval_date', 1).over(Window.partitionBy('orig1').orderBy('interval_date')))\n",
    "\n",
    "# Dataframe with number of flights departuring\n",
    "df_flights_out = df_out_dates\\\n",
    "                .join(df_cast, on = (df_out_dates.orig1 == df_cast.orig) &\\\n",
    "                                    ((df_cast.actl_dep_lcl_tms >= df_out_dates.interval_date) &\\\n",
    "                                    (df_cast.actl_dep_lcl_tms < df_out_dates.next_interval)), how = 'left')\\\n",
    "                .withColumn('out', when(col('orig').isNull(), lit(0)).otherwise(lit(1)))\\\n",
    "                .select('orig1', 'interval_date', 'next_interval', 'out')\n",
    "            "
   ]
  },
  {
   "cell_type": "code",
   "execution_count": 0,
   "metadata": {
    "application/vnd.databricks.v1+cell": {
     "cellMetadata": {
      "byteLimit": 2048000,
      "rowLimit": 10000
     },
     "inputWidgets": {},
     "nuid": "bdcb150b-b17b-4b9c-a269-600d4a7c6aaa",
     "showTitle": false,
     "title": ""
    }
   },
   "outputs": [],
   "source": [
    "# Cartesian product of airports code of destination vs dates with interval.\n",
    "df_in_dates = df.groupBy('dest').agg(count('*').alias('cuenta'))\\\n",
    "                .select(col('dest').alias('dest1'))\\\n",
    "                .join(df_dates, on=None, how='cross')\\\n",
    "                .withColumn('next_interval', lead('interval_date', 1).over(Window.partitionBy('dest1').orderBy('interval_date')))\n",
    "\n",
    "# Dataframe with number of flights arriving\n",
    "df_flights_in = df_in_dates\\\n",
    "                .join(df_cast, on = (df_in_dates.dest1 == df_cast.dest) &\\\n",
    "                                    ((df_cast.actl_arr_lcl_tms >= df_in_dates.interval_date) &\\\n",
    "                                    (df_cast.actl_arr_lcl_tms < df_in_dates.next_interval)), how = 'left')\\\n",
    "                .withColumn('in', when(col('dest').isNull(), lit(0)).otherwise(lit(1)))\\\n",
    "                .select('dest1', 'interval_date', 'next_interval', 'in')\n"
   ]
  },
  {
   "cell_type": "code",
   "execution_count": 0,
   "metadata": {
    "application/vnd.databricks.v1+cell": {
     "cellMetadata": {
      "byteLimit": 2048000,
      "rowLimit": 10000
     },
     "inputWidgets": {},
     "nuid": "e5c2613c-eaa8-49a8-95c5-df2025ffd0ab",
     "showTitle": false,
     "title": ""
    }
   },
   "outputs": [
    {
     "output_type": "display_data",
     "data": {
      "text/html": [
       "<style scoped>\n",
       "  .table-result-container {\n",
       "    max-height: 300px;\n",
       "    overflow: auto;\n",
       "  }\n",
       "  table, th, td {\n",
       "    border: 1px solid black;\n",
       "    border-collapse: collapse;\n",
       "  }\n",
       "  th, td {\n",
       "    padding: 5px;\n",
       "  }\n",
       "  th {\n",
       "    text-align: left;\n",
       "  }\n",
       "</style><div class='table-result-container'><table class='table-result'><thead style='background-color: white'><tr><th>airport_code</th><th>interval_date</th><th>interval_date_minus_two_hours</th><th>out</th><th>in</th></tr></thead><tbody><tr><td>YVR</td><td>2022-12-31T00:00:00.000+0000</td><td>2022-12-30T22:00:00.000+0000</td><td>0</td><td>0</td></tr><tr><td>YVR</td><td>2022-12-31T00:15:00.000+0000</td><td>2022-12-30T22:15:00.000+0000</td><td>1</td><td>0</td></tr><tr><td>YVR</td><td>2022-12-31T00:30:00.000+0000</td><td>2022-12-30T22:30:00.000+0000</td><td>0</td><td>0</td></tr><tr><td>YVR</td><td>2022-12-31T00:45:00.000+0000</td><td>2022-12-30T22:45:00.000+0000</td><td>0</td><td>0</td></tr><tr><td>YVR</td><td>2022-12-31T01:00:00.000+0000</td><td>2022-12-30T23:00:00.000+0000</td><td>0</td><td>0</td></tr><tr><td>YVR</td><td>2022-12-31T01:15:00.000+0000</td><td>2022-12-30T23:15:00.000+0000</td><td>0</td><td>0</td></tr><tr><td>YVR</td><td>2022-12-31T01:30:00.000+0000</td><td>2022-12-30T23:30:00.000+0000</td><td>0</td><td>0</td></tr><tr><td>YVR</td><td>2022-12-31T01:45:00.000+0000</td><td>2022-12-30T23:45:00.000+0000</td><td>0</td><td>0</td></tr><tr><td>YVR</td><td>2022-12-31T02:00:00.000+0000</td><td>2022-12-31T00:00:00.000+0000</td><td>0</td><td>0</td></tr><tr><td>YVR</td><td>2022-12-31T02:15:00.000+0000</td><td>2022-12-31T00:15:00.000+0000</td><td>0</td><td>0</td></tr><tr><td>YVR</td><td>2022-12-31T02:30:00.000+0000</td><td>2022-12-31T00:30:00.000+0000</td><td>0</td><td>0</td></tr><tr><td>YVR</td><td>2022-12-31T02:45:00.000+0000</td><td>2022-12-31T00:45:00.000+0000</td><td>0</td><td>0</td></tr><tr><td>YVR</td><td>2022-12-31T03:00:00.000+0000</td><td>2022-12-31T01:00:00.000+0000</td><td>0</td><td>0</td></tr><tr><td>YVR</td><td>2022-12-31T03:15:00.000+0000</td><td>2022-12-31T01:15:00.000+0000</td><td>0</td><td>0</td></tr><tr><td>YVR</td><td>2022-12-31T03:30:00.000+0000</td><td>2022-12-31T01:30:00.000+0000</td><td>0</td><td>0</td></tr><tr><td>YVR</td><td>2022-12-31T03:45:00.000+0000</td><td>2022-12-31T01:45:00.000+0000</td><td>0</td><td>0</td></tr><tr><td>YVR</td><td>2022-12-31T04:00:00.000+0000</td><td>2022-12-31T02:00:00.000+0000</td><td>0</td><td>0</td></tr><tr><td>YVR</td><td>2022-12-31T04:15:00.000+0000</td><td>2022-12-31T02:15:00.000+0000</td><td>0</td><td>0</td></tr><tr><td>YVR</td><td>2022-12-31T04:30:00.000+0000</td><td>2022-12-31T02:30:00.000+0000</td><td>0</td><td>0</td></tr><tr><td>YVR</td><td>2022-12-31T04:45:00.000+0000</td><td>2022-12-31T02:45:00.000+0000</td><td>0</td><td>0</td></tr><tr><td>YVR</td><td>2022-12-31T05:00:00.000+0000</td><td>2022-12-31T03:00:00.000+0000</td><td>0</td><td>0</td></tr><tr><td>YVR</td><td>2022-12-31T05:15:00.000+0000</td><td>2022-12-31T03:15:00.000+0000</td><td>0</td><td>0</td></tr><tr><td>YVR</td><td>2022-12-31T05:30:00.000+0000</td><td>2022-12-31T03:30:00.000+0000</td><td>0</td><td>0</td></tr><tr><td>YVR</td><td>2022-12-31T05:45:00.000+0000</td><td>2022-12-31T03:45:00.000+0000</td><td>0</td><td>0</td></tr><tr><td>YVR</td><td>2022-12-31T06:00:00.000+0000</td><td>2022-12-31T04:00:00.000+0000</td><td>1</td><td>0</td></tr><tr><td>YVR</td><td>2022-12-31T06:15:00.000+0000</td><td>2022-12-31T04:15:00.000+0000</td><td>0</td><td>0</td></tr><tr><td>YVR</td><td>2022-12-31T06:30:00.000+0000</td><td>2022-12-31T04:30:00.000+0000</td><td>0</td><td>0</td></tr><tr><td>YVR</td><td>2022-12-31T06:45:00.000+0000</td><td>2022-12-31T04:45:00.000+0000</td><td>0</td><td>0</td></tr><tr><td>YVR</td><td>2022-12-31T07:00:00.000+0000</td><td>2022-12-31T05:00:00.000+0000</td><td>0</td><td>0</td></tr><tr><td>YVR</td><td>2022-12-31T07:15:00.000+0000</td><td>2022-12-31T05:15:00.000+0000</td><td>0</td><td>0</td></tr><tr><td>YVR</td><td>2022-12-31T07:30:00.000+0000</td><td>2022-12-31T05:30:00.000+0000</td><td>0</td><td>0</td></tr><tr><td>YVR</td><td>2022-12-31T07:45:00.000+0000</td><td>2022-12-31T05:45:00.000+0000</td><td>0</td><td>0</td></tr><tr><td>YVR</td><td>2022-12-31T08:00:00.000+0000</td><td>2022-12-31T06:00:00.000+0000</td><td>1</td><td>0</td></tr><tr><td>YVR</td><td>2022-12-31T08:15:00.000+0000</td><td>2022-12-31T06:15:00.000+0000</td><td>0</td><td>0</td></tr><tr><td>YVR</td><td>2022-12-31T08:30:00.000+0000</td><td>2022-12-31T06:30:00.000+0000</td><td>0</td><td>0</td></tr><tr><td>YVR</td><td>2022-12-31T08:45:00.000+0000</td><td>2022-12-31T06:45:00.000+0000</td><td>0</td><td>0</td></tr><tr><td>YVR</td><td>2022-12-31T09:00:00.000+0000</td><td>2022-12-31T07:00:00.000+0000</td><td>0</td><td>0</td></tr><tr><td>YVR</td><td>2022-12-31T09:15:00.000+0000</td><td>2022-12-31T07:15:00.000+0000</td><td>0</td><td>0</td></tr><tr><td>YVR</td><td>2022-12-31T09:30:00.000+0000</td><td>2022-12-31T07:30:00.000+0000</td><td>0</td><td>0</td></tr><tr><td>YVR</td><td>2022-12-31T09:45:00.000+0000</td><td>2022-12-31T07:45:00.000+0000</td><td>1</td><td>0</td></tr><tr><td>YVR</td><td>2022-12-31T10:00:00.000+0000</td><td>2022-12-31T08:00:00.000+0000</td><td>1</td><td>0</td></tr><tr><td>YVR</td><td>2022-12-31T10:15:00.000+0000</td><td>2022-12-31T08:15:00.000+0000</td><td>0</td><td>0</td></tr><tr><td>YVR</td><td>2022-12-31T10:30:00.000+0000</td><td>2022-12-31T08:30:00.000+0000</td><td>0</td><td>1</td></tr><tr><td>YVR</td><td>2022-12-31T10:45:00.000+0000</td><td>2022-12-31T08:45:00.000+0000</td><td>0</td><td>0</td></tr><tr><td>YVR</td><td>2022-12-31T11:00:00.000+0000</td><td>2022-12-31T09:00:00.000+0000</td><td>0</td><td>0</td></tr><tr><td>YVR</td><td>2022-12-31T11:15:00.000+0000</td><td>2022-12-31T09:15:00.000+0000</td><td>0</td><td>0</td></tr><tr><td>YVR</td><td>2022-12-31T11:30:00.000+0000</td><td>2022-12-31T09:30:00.000+0000</td><td>0</td><td>0</td></tr><tr><td>YVR</td><td>2022-12-31T11:45:00.000+0000</td><td>2022-12-31T09:45:00.000+0000</td><td>1</td><td>0</td></tr><tr><td>YVR</td><td>2022-12-31T12:00:00.000+0000</td><td>2022-12-31T10:00:00.000+0000</td><td>0</td><td>0</td></tr><tr><td>YVR</td><td>2022-12-31T12:15:00.000+0000</td><td>2022-12-31T10:15:00.000+0000</td><td>0</td><td>1</td></tr><tr><td>YVR</td><td>2022-12-31T12:30:00.000+0000</td><td>2022-12-31T10:30:00.000+0000</td><td>0</td><td>0</td></tr><tr><td>YVR</td><td>2022-12-31T12:45:00.000+0000</td><td>2022-12-31T10:45:00.000+0000</td><td>1</td><td>0</td></tr><tr><td>YVR</td><td>2022-12-31T13:00:00.000+0000</td><td>2022-12-31T11:00:00.000+0000</td><td>0</td><td>1</td></tr><tr><td>YVR</td><td>2022-12-31T13:15:00.000+0000</td><td>2022-12-31T11:15:00.000+0000</td><td>0</td><td>0</td></tr><tr><td>YVR</td><td>2022-12-31T13:30:00.000+0000</td><td>2022-12-31T11:30:00.000+0000</td><td>0</td><td>0</td></tr><tr><td>YVR</td><td>2022-12-31T13:45:00.000+0000</td><td>2022-12-31T11:45:00.000+0000</td><td>0</td><td>0</td></tr><tr><td>YVR</td><td>2022-12-31T14:00:00.000+0000</td><td>2022-12-31T12:00:00.000+0000</td><td>1</td><td>0</td></tr><tr><td>YVR</td><td>2022-12-31T14:15:00.000+0000</td><td>2022-12-31T12:15:00.000+0000</td><td>0</td><td>0</td></tr><tr><td>YVR</td><td>2022-12-31T14:30:00.000+0000</td><td>2022-12-31T12:30:00.000+0000</td><td>0</td><td>0</td></tr><tr><td>YVR</td><td>2022-12-31T14:45:00.000+0000</td><td>2022-12-31T12:45:00.000+0000</td><td>1</td><td>1</td></tr><tr><td>YVR</td><td>2022-12-31T15:00:00.000+0000</td><td>2022-12-31T13:00:00.000+0000</td><td>0</td><td>0</td></tr><tr><td>YVR</td><td>2022-12-31T15:15:00.000+0000</td><td>2022-12-31T13:15:00.000+0000</td><td>0</td><td>0</td></tr><tr><td>YVR</td><td>2022-12-31T15:30:00.000+0000</td><td>2022-12-31T13:30:00.000+0000</td><td>0</td><td>0</td></tr><tr><td>YVR</td><td>2022-12-31T15:45:00.000+0000</td><td>2022-12-31T13:45:00.000+0000</td><td>0</td><td>0</td></tr><tr><td>YVR</td><td>2022-12-31T16:00:00.000+0000</td><td>2022-12-31T14:00:00.000+0000</td><td>1</td><td>0</td></tr><tr><td>YVR</td><td>2022-12-31T16:15:00.000+0000</td><td>2022-12-31T14:15:00.000+0000</td><td>0</td><td>0</td></tr><tr><td>YVR</td><td>2022-12-31T16:30:00.000+0000</td><td>2022-12-31T14:30:00.000+0000</td><td>0</td><td>1</td></tr><tr><td>YVR</td><td>2022-12-31T16:45:00.000+0000</td><td>2022-12-31T14:45:00.000+0000</td><td>0</td><td>0</td></tr><tr><td>YVR</td><td>2022-12-31T17:00:00.000+0000</td><td>2022-12-31T15:00:00.000+0000</td><td>0</td><td>0</td></tr><tr><td>YVR</td><td>2022-12-31T17:15:00.000+0000</td><td>2022-12-31T15:15:00.000+0000</td><td>0</td><td>0</td></tr><tr><td>YVR</td><td>2022-12-31T17:30:00.000+0000</td><td>2022-12-31T15:30:00.000+0000</td><td>0</td><td>0</td></tr><tr><td>YVR</td><td>2022-12-31T17:45:00.000+0000</td><td>2022-12-31T15:45:00.000+0000</td><td>0</td><td>0</td></tr><tr><td>YVR</td><td>2022-12-31T18:00:00.000+0000</td><td>2022-12-31T16:00:00.000+0000</td><td>0</td><td>0</td></tr><tr><td>YVR</td><td>2022-12-31T18:15:00.000+0000</td><td>2022-12-31T16:15:00.000+0000</td><td>0</td><td>0</td></tr><tr><td>YVR</td><td>2022-12-31T18:30:00.000+0000</td><td>2022-12-31T16:30:00.000+0000</td><td>0</td><td>1</td></tr><tr><td>YVR</td><td>2022-12-31T18:45:00.000+0000</td><td>2022-12-31T16:45:00.000+0000</td><td>0</td><td>0</td></tr><tr><td>YVR</td><td>2022-12-31T19:00:00.000+0000</td><td>2022-12-31T17:00:00.000+0000</td><td>0</td><td>1</td></tr><tr><td>YVR</td><td>2022-12-31T19:15:00.000+0000</td><td>2022-12-31T17:15:00.000+0000</td><td>0</td><td>0</td></tr><tr><td>YVR</td><td>2022-12-31T19:30:00.000+0000</td><td>2022-12-31T17:30:00.000+0000</td><td>0</td><td>0</td></tr><tr><td>YVR</td><td>2022-12-31T19:45:00.000+0000</td><td>2022-12-31T17:45:00.000+0000</td><td>0</td><td>0</td></tr><tr><td>YVR</td><td>2022-12-31T20:00:00.000+0000</td><td>2022-12-31T18:00:00.000+0000</td><td>0</td><td>0</td></tr><tr><td>YVR</td><td>2022-12-31T20:15:00.000+0000</td><td>2022-12-31T18:15:00.000+0000</td><td>0</td><td>0</td></tr><tr><td>YVR</td><td>2022-12-31T20:30:00.000+0000</td><td>2022-12-31T18:30:00.000+0000</td><td>0</td><td>1</td></tr><tr><td>YVR</td><td>2022-12-31T20:45:00.000+0000</td><td>2022-12-31T18:45:00.000+0000</td><td>0</td><td>0</td></tr><tr><td>YVR</td><td>2022-12-31T21:00:00.000+0000</td><td>2022-12-31T19:00:00.000+0000</td><td>0</td><td>0</td></tr><tr><td>YVR</td><td>2022-12-31T21:15:00.000+0000</td><td>2022-12-31T19:15:00.000+0000</td><td>0</td><td>1</td></tr><tr><td>YVR</td><td>2022-12-31T21:30:00.000+0000</td><td>2022-12-31T19:30:00.000+0000</td><td>0</td><td>0</td></tr><tr><td>YVR</td><td>2022-12-31T21:45:00.000+0000</td><td>2022-12-31T19:45:00.000+0000</td><td>0</td><td>0</td></tr><tr><td>YVR</td><td>2022-12-31T22:00:00.000+0000</td><td>2022-12-31T20:00:00.000+0000</td><td>0</td><td>0</td></tr><tr><td>YVR</td><td>2022-12-31T22:15:00.000+0000</td><td>2022-12-31T20:15:00.000+0000</td><td>0</td><td>1</td></tr><tr><td>YVR</td><td>2022-12-31T22:30:00.000+0000</td><td>2022-12-31T20:30:00.000+0000</td><td>0</td><td>0</td></tr><tr><td>YVR</td><td>2022-12-31T22:45:00.000+0000</td><td>2022-12-31T20:45:00.000+0000</td><td>0</td><td>0</td></tr><tr><td>YVR</td><td>2022-12-31T23:00:00.000+0000</td><td>2022-12-31T21:00:00.000+0000</td><td>0</td><td>0</td></tr><tr><td>YVR</td><td>2022-12-31T23:15:00.000+0000</td><td>2022-12-31T21:15:00.000+0000</td><td>0</td><td>0</td></tr><tr><td>YVR</td><td>2022-12-31T23:30:00.000+0000</td><td>2022-12-31T21:30:00.000+0000</td><td>0</td><td>0</td></tr><tr><td>YVR</td><td>2022-12-31T23:45:00.000+0000</td><td>2022-12-31T21:45:00.000+0000</td><td>0</td><td>0</td></tr><tr><td>YYZ</td><td>2022-12-31T00:00:00.000+0000</td><td>2022-12-30T22:00:00.000+0000</td><td>0</td><td>0</td></tr><tr><td>YYZ</td><td>2022-12-31T00:15:00.000+0000</td><td>2022-12-30T22:15:00.000+0000</td><td>0</td><td>0</td></tr><tr><td>YYZ</td><td>2022-12-31T00:30:00.000+0000</td><td>2022-12-30T22:30:00.000+0000</td><td>0</td><td>0</td></tr><tr><td>YYZ</td><td>2022-12-31T00:45:00.000+0000</td><td>2022-12-30T22:45:00.000+0000</td><td>0</td><td>0</td></tr><tr><td>YYZ</td><td>2022-12-31T01:00:00.000+0000</td><td>2022-12-30T23:00:00.000+0000</td><td>0</td><td>0</td></tr><tr><td>YYZ</td><td>2022-12-31T01:15:00.000+0000</td><td>2022-12-30T23:15:00.000+0000</td><td>0</td><td>0</td></tr><tr><td>YYZ</td><td>2022-12-31T01:30:00.000+0000</td><td>2022-12-30T23:30:00.000+0000</td><td>0</td><td>0</td></tr><tr><td>YYZ</td><td>2022-12-31T01:45:00.000+0000</td><td>2022-12-30T23:45:00.000+0000</td><td>0</td><td>0</td></tr><tr><td>YYZ</td><td>2022-12-31T02:00:00.000+0000</td><td>2022-12-31T00:00:00.000+0000</td><td>0</td><td>0</td></tr><tr><td>YYZ</td><td>2022-12-31T02:15:00.000+0000</td><td>2022-12-31T00:15:00.000+0000</td><td>0</td><td>0</td></tr><tr><td>YYZ</td><td>2022-12-31T02:30:00.000+0000</td><td>2022-12-31T00:30:00.000+0000</td><td>0</td><td>0</td></tr><tr><td>YYZ</td><td>2022-12-31T02:45:00.000+0000</td><td>2022-12-31T00:45:00.000+0000</td><td>0</td><td>0</td></tr><tr><td>YYZ</td><td>2022-12-31T03:00:00.000+0000</td><td>2022-12-31T01:00:00.000+0000</td><td>0</td><td>0</td></tr><tr><td>YYZ</td><td>2022-12-31T03:15:00.000+0000</td><td>2022-12-31T01:15:00.000+0000</td><td>0</td><td>0</td></tr><tr><td>YYZ</td><td>2022-12-31T03:30:00.000+0000</td><td>2022-12-31T01:30:00.000+0000</td><td>0</td><td>0</td></tr><tr><td>YYZ</td><td>2022-12-31T03:45:00.000+0000</td><td>2022-12-31T01:45:00.000+0000</td><td>0</td><td>0</td></tr><tr><td>YYZ</td><td>2022-12-31T04:00:00.000+0000</td><td>2022-12-31T02:00:00.000+0000</td><td>0</td><td>0</td></tr><tr><td>YYZ</td><td>2022-12-31T04:15:00.000+0000</td><td>2022-12-31T02:15:00.000+0000</td><td>0</td><td>0</td></tr><tr><td>YYZ</td><td>2022-12-31T04:30:00.000+0000</td><td>2022-12-31T02:30:00.000+0000</td><td>0</td><td>0</td></tr><tr><td>YYZ</td><td>2022-12-31T04:45:00.000+0000</td><td>2022-12-31T02:45:00.000+0000</td><td>0</td><td>0</td></tr><tr><td>YYZ</td><td>2022-12-31T05:00:00.000+0000</td><td>2022-12-31T03:00:00.000+0000</td><td>0</td><td>0</td></tr><tr><td>YYZ</td><td>2022-12-31T05:15:00.000+0000</td><td>2022-12-31T03:15:00.000+0000</td><td>0</td><td>0</td></tr><tr><td>YYZ</td><td>2022-12-31T05:30:00.000+0000</td><td>2022-12-31T03:30:00.000+0000</td><td>0</td><td>0</td></tr><tr><td>YYZ</td><td>2022-12-31T05:45:00.000+0000</td><td>2022-12-31T03:45:00.000+0000</td><td>0</td><td>0</td></tr><tr><td>YYZ</td><td>2022-12-31T06:00:00.000+0000</td><td>2022-12-31T04:00:00.000+0000</td><td>0</td><td>0</td></tr><tr><td>YYZ</td><td>2022-12-31T06:15:00.000+0000</td><td>2022-12-31T04:15:00.000+0000</td><td>0</td><td>0</td></tr><tr><td>YYZ</td><td>2022-12-31T06:30:00.000+0000</td><td>2022-12-31T04:30:00.000+0000</td><td>0</td><td>0</td></tr><tr><td>YYZ</td><td>2022-12-31T06:45:00.000+0000</td><td>2022-12-31T04:45:00.000+0000</td><td>0</td><td>0</td></tr><tr><td>YYZ</td><td>2022-12-31T07:00:00.000+0000</td><td>2022-12-31T05:00:00.000+0000</td><td>0</td><td>0</td></tr><tr><td>YYZ</td><td>2022-12-31T07:15:00.000+0000</td><td>2022-12-31T05:15:00.000+0000</td><td>0</td><td>0</td></tr><tr><td>YYZ</td><td>2022-12-31T07:30:00.000+0000</td><td>2022-12-31T05:30:00.000+0000</td><td>0</td><td>0</td></tr><tr><td>YYZ</td><td>2022-12-31T07:45:00.000+0000</td><td>2022-12-31T05:45:00.000+0000</td><td>0</td><td>0</td></tr><tr><td>YYZ</td><td>2022-12-31T08:00:00.000+0000</td><td>2022-12-31T06:00:00.000+0000</td><td>0</td><td>0</td></tr><tr><td>YYZ</td><td>2022-12-31T08:15:00.000+0000</td><td>2022-12-31T06:15:00.000+0000</td><td>0</td><td>1</td></tr><tr><td>YYZ</td><td>2022-12-31T08:30:00.000+0000</td><td>2022-12-31T06:30:00.000+0000</td><td>0</td><td>0</td></tr><tr><td>YYZ</td><td>2022-12-31T08:45:00.000+0000</td><td>2022-12-31T06:45:00.000+0000</td><td>1</td><td>0</td></tr><tr><td>YYZ</td><td>2022-12-31T09:00:00.000+0000</td><td>2022-12-31T07:00:00.000+0000</td><td>0</td><td>0</td></tr><tr><td>YYZ</td><td>2022-12-31T09:15:00.000+0000</td><td>2022-12-31T07:15:00.000+0000</td><td>0</td><td>0</td></tr><tr><td>YYZ</td><td>2022-12-31T09:30:00.000+0000</td><td>2022-12-31T07:30:00.000+0000</td><td>0</td><td>0</td></tr><tr><td>YYZ</td><td>2022-12-31T09:45:00.000+0000</td><td>2022-12-31T07:45:00.000+0000</td><td>0</td><td>0</td></tr><tr><td>YYZ</td><td>2022-12-31T10:00:00.000+0000</td><td>2022-12-31T08:00:00.000+0000</td><td>0</td><td>0</td></tr><tr><td>YYZ</td><td>2022-12-31T10:15:00.000+0000</td><td>2022-12-31T08:15:00.000+0000</td><td>1</td><td>0</td></tr><tr><td>YYZ</td><td>2022-12-31T10:30:00.000+0000</td><td>2022-12-31T08:30:00.000+0000</td><td>0</td><td>0</td></tr><tr><td>YYZ</td><td>2022-12-31T10:45:00.000+0000</td><td>2022-12-31T08:45:00.000+0000</td><td>0</td><td>0</td></tr><tr><td>YYZ</td><td>2022-12-31T11:00:00.000+0000</td><td>2022-12-31T09:00:00.000+0000</td><td>0</td><td>0</td></tr><tr><td>YYZ</td><td>2022-12-31T11:15:00.000+0000</td><td>2022-12-31T09:15:00.000+0000</td><td>1</td><td>0</td></tr><tr><td>YYZ</td><td>2022-12-31T11:30:00.000+0000</td><td>2022-12-31T09:30:00.000+0000</td><td>0</td><td>0</td></tr><tr><td>YYZ</td><td>2022-12-31T11:45:00.000+0000</td><td>2022-12-31T09:45:00.000+0000</td><td>0</td><td>0</td></tr><tr><td>YYZ</td><td>2022-12-31T12:00:00.000+0000</td><td>2022-12-31T10:00:00.000+0000</td><td>0</td><td>0</td></tr><tr><td>YYZ</td><td>2022-12-31T12:15:00.000+0000</td><td>2022-12-31T10:15:00.000+0000</td><td>0</td><td>0</td></tr><tr><td>YYZ</td><td>2022-12-31T12:30:00.000+0000</td><td>2022-12-31T10:30:00.000+0000</td><td>0</td><td>0</td></tr><tr><td>YYZ</td><td>2022-12-31T12:45:00.000+0000</td><td>2022-12-31T10:45:00.000+0000</td><td>0</td><td>0</td></tr><tr><td>YYZ</td><td>2022-12-31T13:00:00.000+0000</td><td>2022-12-31T11:00:00.000+0000</td><td>1</td><td>0</td></tr><tr><td>YYZ</td><td>2022-12-31T13:15:00.000+0000</td><td>2022-12-31T11:15:00.000+0000</td><td>0</td><td>1</td></tr><tr><td>YYZ</td><td>2022-12-31T13:30:00.000+0000</td><td>2022-12-31T11:30:00.000+0000</td><td>0</td><td>0</td></tr><tr><td>YYZ</td><td>2022-12-31T13:45:00.000+0000</td><td>2022-12-31T11:45:00.000+0000</td><td>0</td><td>0</td></tr><tr><td>YYZ</td><td>2022-12-31T14:00:00.000+0000</td><td>2022-12-31T12:00:00.000+0000</td><td>0</td><td>0</td></tr><tr><td>YYZ</td><td>2022-12-31T14:15:00.000+0000</td><td>2022-12-31T12:15:00.000+0000</td><td>0</td><td>0</td></tr><tr><td>YYZ</td><td>2022-12-31T14:30:00.000+0000</td><td>2022-12-31T12:30:00.000+0000</td><td>1</td><td>0</td></tr><tr><td>YYZ</td><td>2022-12-31T14:45:00.000+0000</td><td>2022-12-31T12:45:00.000+0000</td><td>0</td><td>0</td></tr><tr><td>YYZ</td><td>2022-12-31T15:00:00.000+0000</td><td>2022-12-31T13:00:00.000+0000</td><td>0</td><td>0</td></tr><tr><td>YYZ</td><td>2022-12-31T15:15:00.000+0000</td><td>2022-12-31T13:15:00.000+0000</td><td>0</td><td>1</td></tr><tr><td>YYZ</td><td>2022-12-31T15:30:00.000+0000</td><td>2022-12-31T13:30:00.000+0000</td><td>0</td><td>0</td></tr><tr><td>YYZ</td><td>2022-12-31T15:45:00.000+0000</td><td>2022-12-31T13:45:00.000+0000</td><td>0</td><td>0</td></tr><tr><td>YYZ</td><td>2022-12-31T16:00:00.000+0000</td><td>2022-12-31T14:00:00.000+0000</td><td>0</td><td>0</td></tr><tr><td>YYZ</td><td>2022-12-31T16:15:00.000+0000</td><td>2022-12-31T14:15:00.000+0000</td><td>0</td><td>0</td></tr><tr><td>YYZ</td><td>2022-12-31T16:30:00.000+0000</td><td>2022-12-31T14:30:00.000+0000</td><td>1</td><td>0</td></tr><tr><td>YYZ</td><td>2022-12-31T16:45:00.000+0000</td><td>2022-12-31T14:45:00.000+0000</td><td>0</td><td>1</td></tr><tr><td>YYZ</td><td>2022-12-31T17:00:00.000+0000</td><td>2022-12-31T15:00:00.000+0000</td><td>0</td><td>0</td></tr><tr><td>YYZ</td><td>2022-12-31T17:15:00.000+0000</td><td>2022-12-31T15:15:00.000+0000</td><td>1</td><td>1</td></tr><tr><td>YYZ</td><td>2022-12-31T17:30:00.000+0000</td><td>2022-12-31T15:30:00.000+0000</td><td>0</td><td>0</td></tr><tr><td>YYZ</td><td>2022-12-31T17:45:00.000+0000</td><td>2022-12-31T15:45:00.000+0000</td><td>0</td><td>0</td></tr><tr><td>YYZ</td><td>2022-12-31T18:00:00.000+0000</td><td>2022-12-31T16:00:00.000+0000</td><td>0</td><td>0</td></tr><tr><td>YYZ</td><td>2022-12-31T18:15:00.000+0000</td><td>2022-12-31T16:15:00.000+0000</td><td>0</td><td>0</td></tr><tr><td>YYZ</td><td>2022-12-31T18:30:00.000+0000</td><td>2022-12-31T16:30:00.000+0000</td><td>0</td><td>0</td></tr><tr><td>YYZ</td><td>2022-12-31T18:45:00.000+0000</td><td>2022-12-31T16:45:00.000+0000</td><td>1</td><td>0</td></tr><tr><td>YYZ</td><td>2022-12-31T19:00:00.000+0000</td><td>2022-12-31T17:00:00.000+0000</td><td>0</td><td>1</td></tr><tr><td>YYZ</td><td>2022-12-31T19:15:00.000+0000</td><td>2022-12-31T17:15:00.000+0000</td><td>0</td><td>0</td></tr><tr><td>YYZ</td><td>2022-12-31T19:30:00.000+0000</td><td>2022-12-31T17:30:00.000+0000</td><td>1</td><td>0</td></tr><tr><td>YYZ</td><td>2022-12-31T19:45:00.000+0000</td><td>2022-12-31T17:45:00.000+0000</td><td>0</td><td>1</td></tr><tr><td>YYZ</td><td>2022-12-31T20:00:00.000+0000</td><td>2022-12-31T18:00:00.000+0000</td><td>0</td><td>0</td></tr><tr><td>YYZ</td><td>2022-12-31T20:15:00.000+0000</td><td>2022-12-31T18:15:00.000+0000</td><td>0</td><td>0</td></tr><tr><td>YYZ</td><td>2022-12-31T20:30:00.000+0000</td><td>2022-12-31T18:30:00.000+0000</td><td>1</td><td>0</td></tr><tr><td>YYZ</td><td>2022-12-31T20:45:00.000+0000</td><td>2022-12-31T18:45:00.000+0000</td><td>0</td><td>0</td></tr><tr><td>YYZ</td><td>2022-12-31T21:00:00.000+0000</td><td>2022-12-31T19:00:00.000+0000</td><td>0</td><td>0</td></tr><tr><td>YYZ</td><td>2022-12-31T21:15:00.000+0000</td><td>2022-12-31T19:15:00.000+0000</td><td>0</td><td>1</td></tr><tr><td>YYZ</td><td>2022-12-31T21:30:00.000+0000</td><td>2022-12-31T19:30:00.000+0000</td><td>0</td><td>0</td></tr><tr><td>YYZ</td><td>2022-12-31T21:45:00.000+0000</td><td>2022-12-31T19:45:00.000+0000</td><td>0</td><td>0</td></tr><tr><td>YYZ</td><td>2022-12-31T22:00:00.000+0000</td><td>2022-12-31T20:00:00.000+0000</td><td>0</td><td>0</td></tr><tr><td>YYZ</td><td>2022-12-31T22:15:00.000+0000</td><td>2022-12-31T20:15:00.000+0000</td><td>0</td><td>1</td></tr><tr><td>YYZ</td><td>2022-12-31T22:30:00.000+0000</td><td>2022-12-31T20:30:00.000+0000</td><td>0</td><td>0</td></tr><tr><td>YYZ</td><td>2022-12-31T22:45:00.000+0000</td><td>2022-12-31T20:45:00.000+0000</td><td>0</td><td>0</td></tr><tr><td>YYZ</td><td>2022-12-31T23:00:00.000+0000</td><td>2022-12-31T21:00:00.000+0000</td><td>0</td><td>0</td></tr><tr><td>YYZ</td><td>2022-12-31T23:15:00.000+0000</td><td>2022-12-31T21:15:00.000+0000</td><td>0</td><td>1</td></tr><tr><td>YYZ</td><td>2022-12-31T23:30:00.000+0000</td><td>2022-12-31T21:30:00.000+0000</td><td>0</td><td>0</td></tr><tr><td>YYZ</td><td>2022-12-31T23:45:00.000+0000</td><td>2022-12-31T21:45:00.000+0000</td><td>0</td><td>0</td></tr></tbody></table></div>"
      ]
     },
     "metadata": {
      "application/vnd.databricks.v1+output": {
       "addedWidgets": {},
       "aggData": [],
       "aggError": "",
       "aggOverflow": false,
       "aggSchema": [],
       "aggSeriesLimitReached": false,
       "aggType": "",
       "arguments": {},
       "columnCustomDisplayInfos": {},
       "data": [
        [
         "YVR",
         "2022-12-31T00:00:00.000+0000",
         "2022-12-30T22:00:00.000+0000",
         0,
         0
        ],
        [
         "YVR",
         "2022-12-31T00:15:00.000+0000",
         "2022-12-30T22:15:00.000+0000",
         1,
         0
        ],
        [
         "YVR",
         "2022-12-31T00:30:00.000+0000",
         "2022-12-30T22:30:00.000+0000",
         0,
         0
        ],
        [
         "YVR",
         "2022-12-31T00:45:00.000+0000",
         "2022-12-30T22:45:00.000+0000",
         0,
         0
        ],
        [
         "YVR",
         "2022-12-31T01:00:00.000+0000",
         "2022-12-30T23:00:00.000+0000",
         0,
         0
        ],
        [
         "YVR",
         "2022-12-31T01:15:00.000+0000",
         "2022-12-30T23:15:00.000+0000",
         0,
         0
        ],
        [
         "YVR",
         "2022-12-31T01:30:00.000+0000",
         "2022-12-30T23:30:00.000+0000",
         0,
         0
        ],
        [
         "YVR",
         "2022-12-31T01:45:00.000+0000",
         "2022-12-30T23:45:00.000+0000",
         0,
         0
        ],
        [
         "YVR",
         "2022-12-31T02:00:00.000+0000",
         "2022-12-31T00:00:00.000+0000",
         0,
         0
        ],
        [
         "YVR",
         "2022-12-31T02:15:00.000+0000",
         "2022-12-31T00:15:00.000+0000",
         0,
         0
        ],
        [
         "YVR",
         "2022-12-31T02:30:00.000+0000",
         "2022-12-31T00:30:00.000+0000",
         0,
         0
        ],
        [
         "YVR",
         "2022-12-31T02:45:00.000+0000",
         "2022-12-31T00:45:00.000+0000",
         0,
         0
        ],
        [
         "YVR",
         "2022-12-31T03:00:00.000+0000",
         "2022-12-31T01:00:00.000+0000",
         0,
         0
        ],
        [
         "YVR",
         "2022-12-31T03:15:00.000+0000",
         "2022-12-31T01:15:00.000+0000",
         0,
         0
        ],
        [
         "YVR",
         "2022-12-31T03:30:00.000+0000",
         "2022-12-31T01:30:00.000+0000",
         0,
         0
        ],
        [
         "YVR",
         "2022-12-31T03:45:00.000+0000",
         "2022-12-31T01:45:00.000+0000",
         0,
         0
        ],
        [
         "YVR",
         "2022-12-31T04:00:00.000+0000",
         "2022-12-31T02:00:00.000+0000",
         0,
         0
        ],
        [
         "YVR",
         "2022-12-31T04:15:00.000+0000",
         "2022-12-31T02:15:00.000+0000",
         0,
         0
        ],
        [
         "YVR",
         "2022-12-31T04:30:00.000+0000",
         "2022-12-31T02:30:00.000+0000",
         0,
         0
        ],
        [
         "YVR",
         "2022-12-31T04:45:00.000+0000",
         "2022-12-31T02:45:00.000+0000",
         0,
         0
        ],
        [
         "YVR",
         "2022-12-31T05:00:00.000+0000",
         "2022-12-31T03:00:00.000+0000",
         0,
         0
        ],
        [
         "YVR",
         "2022-12-31T05:15:00.000+0000",
         "2022-12-31T03:15:00.000+0000",
         0,
         0
        ],
        [
         "YVR",
         "2022-12-31T05:30:00.000+0000",
         "2022-12-31T03:30:00.000+0000",
         0,
         0
        ],
        [
         "YVR",
         "2022-12-31T05:45:00.000+0000",
         "2022-12-31T03:45:00.000+0000",
         0,
         0
        ],
        [
         "YVR",
         "2022-12-31T06:00:00.000+0000",
         "2022-12-31T04:00:00.000+0000",
         1,
         0
        ],
        [
         "YVR",
         "2022-12-31T06:15:00.000+0000",
         "2022-12-31T04:15:00.000+0000",
         0,
         0
        ],
        [
         "YVR",
         "2022-12-31T06:30:00.000+0000",
         "2022-12-31T04:30:00.000+0000",
         0,
         0
        ],
        [
         "YVR",
         "2022-12-31T06:45:00.000+0000",
         "2022-12-31T04:45:00.000+0000",
         0,
         0
        ],
        [
         "YVR",
         "2022-12-31T07:00:00.000+0000",
         "2022-12-31T05:00:00.000+0000",
         0,
         0
        ],
        [
         "YVR",
         "2022-12-31T07:15:00.000+0000",
         "2022-12-31T05:15:00.000+0000",
         0,
         0
        ],
        [
         "YVR",
         "2022-12-31T07:30:00.000+0000",
         "2022-12-31T05:30:00.000+0000",
         0,
         0
        ],
        [
         "YVR",
         "2022-12-31T07:45:00.000+0000",
         "2022-12-31T05:45:00.000+0000",
         0,
         0
        ],
        [
         "YVR",
         "2022-12-31T08:00:00.000+0000",
         "2022-12-31T06:00:00.000+0000",
         1,
         0
        ],
        [
         "YVR",
         "2022-12-31T08:15:00.000+0000",
         "2022-12-31T06:15:00.000+0000",
         0,
         0
        ],
        [
         "YVR",
         "2022-12-31T08:30:00.000+0000",
         "2022-12-31T06:30:00.000+0000",
         0,
         0
        ],
        [
         "YVR",
         "2022-12-31T08:45:00.000+0000",
         "2022-12-31T06:45:00.000+0000",
         0,
         0
        ],
        [
         "YVR",
         "2022-12-31T09:00:00.000+0000",
         "2022-12-31T07:00:00.000+0000",
         0,
         0
        ],
        [
         "YVR",
         "2022-12-31T09:15:00.000+0000",
         "2022-12-31T07:15:00.000+0000",
         0,
         0
        ],
        [
         "YVR",
         "2022-12-31T09:30:00.000+0000",
         "2022-12-31T07:30:00.000+0000",
         0,
         0
        ],
        [
         "YVR",
         "2022-12-31T09:45:00.000+0000",
         "2022-12-31T07:45:00.000+0000",
         1,
         0
        ],
        [
         "YVR",
         "2022-12-31T10:00:00.000+0000",
         "2022-12-31T08:00:00.000+0000",
         1,
         0
        ],
        [
         "YVR",
         "2022-12-31T10:15:00.000+0000",
         "2022-12-31T08:15:00.000+0000",
         0,
         0
        ],
        [
         "YVR",
         "2022-12-31T10:30:00.000+0000",
         "2022-12-31T08:30:00.000+0000",
         0,
         1
        ],
        [
         "YVR",
         "2022-12-31T10:45:00.000+0000",
         "2022-12-31T08:45:00.000+0000",
         0,
         0
        ],
        [
         "YVR",
         "2022-12-31T11:00:00.000+0000",
         "2022-12-31T09:00:00.000+0000",
         0,
         0
        ],
        [
         "YVR",
         "2022-12-31T11:15:00.000+0000",
         "2022-12-31T09:15:00.000+0000",
         0,
         0
        ],
        [
         "YVR",
         "2022-12-31T11:30:00.000+0000",
         "2022-12-31T09:30:00.000+0000",
         0,
         0
        ],
        [
         "YVR",
         "2022-12-31T11:45:00.000+0000",
         "2022-12-31T09:45:00.000+0000",
         1,
         0
        ],
        [
         "YVR",
         "2022-12-31T12:00:00.000+0000",
         "2022-12-31T10:00:00.000+0000",
         0,
         0
        ],
        [
         "YVR",
         "2022-12-31T12:15:00.000+0000",
         "2022-12-31T10:15:00.000+0000",
         0,
         1
        ],
        [
         "YVR",
         "2022-12-31T12:30:00.000+0000",
         "2022-12-31T10:30:00.000+0000",
         0,
         0
        ],
        [
         "YVR",
         "2022-12-31T12:45:00.000+0000",
         "2022-12-31T10:45:00.000+0000",
         1,
         0
        ],
        [
         "YVR",
         "2022-12-31T13:00:00.000+0000",
         "2022-12-31T11:00:00.000+0000",
         0,
         1
        ],
        [
         "YVR",
         "2022-12-31T13:15:00.000+0000",
         "2022-12-31T11:15:00.000+0000",
         0,
         0
        ],
        [
         "YVR",
         "2022-12-31T13:30:00.000+0000",
         "2022-12-31T11:30:00.000+0000",
         0,
         0
        ],
        [
         "YVR",
         "2022-12-31T13:45:00.000+0000",
         "2022-12-31T11:45:00.000+0000",
         0,
         0
        ],
        [
         "YVR",
         "2022-12-31T14:00:00.000+0000",
         "2022-12-31T12:00:00.000+0000",
         1,
         0
        ],
        [
         "YVR",
         "2022-12-31T14:15:00.000+0000",
         "2022-12-31T12:15:00.000+0000",
         0,
         0
        ],
        [
         "YVR",
         "2022-12-31T14:30:00.000+0000",
         "2022-12-31T12:30:00.000+0000",
         0,
         0
        ],
        [
         "YVR",
         "2022-12-31T14:45:00.000+0000",
         "2022-12-31T12:45:00.000+0000",
         1,
         1
        ],
        [
         "YVR",
         "2022-12-31T15:00:00.000+0000",
         "2022-12-31T13:00:00.000+0000",
         0,
         0
        ],
        [
         "YVR",
         "2022-12-31T15:15:00.000+0000",
         "2022-12-31T13:15:00.000+0000",
         0,
         0
        ],
        [
         "YVR",
         "2022-12-31T15:30:00.000+0000",
         "2022-12-31T13:30:00.000+0000",
         0,
         0
        ],
        [
         "YVR",
         "2022-12-31T15:45:00.000+0000",
         "2022-12-31T13:45:00.000+0000",
         0,
         0
        ],
        [
         "YVR",
         "2022-12-31T16:00:00.000+0000",
         "2022-12-31T14:00:00.000+0000",
         1,
         0
        ],
        [
         "YVR",
         "2022-12-31T16:15:00.000+0000",
         "2022-12-31T14:15:00.000+0000",
         0,
         0
        ],
        [
         "YVR",
         "2022-12-31T16:30:00.000+0000",
         "2022-12-31T14:30:00.000+0000",
         0,
         1
        ],
        [
         "YVR",
         "2022-12-31T16:45:00.000+0000",
         "2022-12-31T14:45:00.000+0000",
         0,
         0
        ],
        [
         "YVR",
         "2022-12-31T17:00:00.000+0000",
         "2022-12-31T15:00:00.000+0000",
         0,
         0
        ],
        [
         "YVR",
         "2022-12-31T17:15:00.000+0000",
         "2022-12-31T15:15:00.000+0000",
         0,
         0
        ],
        [
         "YVR",
         "2022-12-31T17:30:00.000+0000",
         "2022-12-31T15:30:00.000+0000",
         0,
         0
        ],
        [
         "YVR",
         "2022-12-31T17:45:00.000+0000",
         "2022-12-31T15:45:00.000+0000",
         0,
         0
        ],
        [
         "YVR",
         "2022-12-31T18:00:00.000+0000",
         "2022-12-31T16:00:00.000+0000",
         0,
         0
        ],
        [
         "YVR",
         "2022-12-31T18:15:00.000+0000",
         "2022-12-31T16:15:00.000+0000",
         0,
         0
        ],
        [
         "YVR",
         "2022-12-31T18:30:00.000+0000",
         "2022-12-31T16:30:00.000+0000",
         0,
         1
        ],
        [
         "YVR",
         "2022-12-31T18:45:00.000+0000",
         "2022-12-31T16:45:00.000+0000",
         0,
         0
        ],
        [
         "YVR",
         "2022-12-31T19:00:00.000+0000",
         "2022-12-31T17:00:00.000+0000",
         0,
         1
        ],
        [
         "YVR",
         "2022-12-31T19:15:00.000+0000",
         "2022-12-31T17:15:00.000+0000",
         0,
         0
        ],
        [
         "YVR",
         "2022-12-31T19:30:00.000+0000",
         "2022-12-31T17:30:00.000+0000",
         0,
         0
        ],
        [
         "YVR",
         "2022-12-31T19:45:00.000+0000",
         "2022-12-31T17:45:00.000+0000",
         0,
         0
        ],
        [
         "YVR",
         "2022-12-31T20:00:00.000+0000",
         "2022-12-31T18:00:00.000+0000",
         0,
         0
        ],
        [
         "YVR",
         "2022-12-31T20:15:00.000+0000",
         "2022-12-31T18:15:00.000+0000",
         0,
         0
        ],
        [
         "YVR",
         "2022-12-31T20:30:00.000+0000",
         "2022-12-31T18:30:00.000+0000",
         0,
         1
        ],
        [
         "YVR",
         "2022-12-31T20:45:00.000+0000",
         "2022-12-31T18:45:00.000+0000",
         0,
         0
        ],
        [
         "YVR",
         "2022-12-31T21:00:00.000+0000",
         "2022-12-31T19:00:00.000+0000",
         0,
         0
        ],
        [
         "YVR",
         "2022-12-31T21:15:00.000+0000",
         "2022-12-31T19:15:00.000+0000",
         0,
         1
        ],
        [
         "YVR",
         "2022-12-31T21:30:00.000+0000",
         "2022-12-31T19:30:00.000+0000",
         0,
         0
        ],
        [
         "YVR",
         "2022-12-31T21:45:00.000+0000",
         "2022-12-31T19:45:00.000+0000",
         0,
         0
        ],
        [
         "YVR",
         "2022-12-31T22:00:00.000+0000",
         "2022-12-31T20:00:00.000+0000",
         0,
         0
        ],
        [
         "YVR",
         "2022-12-31T22:15:00.000+0000",
         "2022-12-31T20:15:00.000+0000",
         0,
         1
        ],
        [
         "YVR",
         "2022-12-31T22:30:00.000+0000",
         "2022-12-31T20:30:00.000+0000",
         0,
         0
        ],
        [
         "YVR",
         "2022-12-31T22:45:00.000+0000",
         "2022-12-31T20:45:00.000+0000",
         0,
         0
        ],
        [
         "YVR",
         "2022-12-31T23:00:00.000+0000",
         "2022-12-31T21:00:00.000+0000",
         0,
         0
        ],
        [
         "YVR",
         "2022-12-31T23:15:00.000+0000",
         "2022-12-31T21:15:00.000+0000",
         0,
         0
        ],
        [
         "YVR",
         "2022-12-31T23:30:00.000+0000",
         "2022-12-31T21:30:00.000+0000",
         0,
         0
        ],
        [
         "YVR",
         "2022-12-31T23:45:00.000+0000",
         "2022-12-31T21:45:00.000+0000",
         0,
         0
        ],
        [
         "YYZ",
         "2022-12-31T00:00:00.000+0000",
         "2022-12-30T22:00:00.000+0000",
         0,
         0
        ],
        [
         "YYZ",
         "2022-12-31T00:15:00.000+0000",
         "2022-12-30T22:15:00.000+0000",
         0,
         0
        ],
        [
         "YYZ",
         "2022-12-31T00:30:00.000+0000",
         "2022-12-30T22:30:00.000+0000",
         0,
         0
        ],
        [
         "YYZ",
         "2022-12-31T00:45:00.000+0000",
         "2022-12-30T22:45:00.000+0000",
         0,
         0
        ],
        [
         "YYZ",
         "2022-12-31T01:00:00.000+0000",
         "2022-12-30T23:00:00.000+0000",
         0,
         0
        ],
        [
         "YYZ",
         "2022-12-31T01:15:00.000+0000",
         "2022-12-30T23:15:00.000+0000",
         0,
         0
        ],
        [
         "YYZ",
         "2022-12-31T01:30:00.000+0000",
         "2022-12-30T23:30:00.000+0000",
         0,
         0
        ],
        [
         "YYZ",
         "2022-12-31T01:45:00.000+0000",
         "2022-12-30T23:45:00.000+0000",
         0,
         0
        ],
        [
         "YYZ",
         "2022-12-31T02:00:00.000+0000",
         "2022-12-31T00:00:00.000+0000",
         0,
         0
        ],
        [
         "YYZ",
         "2022-12-31T02:15:00.000+0000",
         "2022-12-31T00:15:00.000+0000",
         0,
         0
        ],
        [
         "YYZ",
         "2022-12-31T02:30:00.000+0000",
         "2022-12-31T00:30:00.000+0000",
         0,
         0
        ],
        [
         "YYZ",
         "2022-12-31T02:45:00.000+0000",
         "2022-12-31T00:45:00.000+0000",
         0,
         0
        ],
        [
         "YYZ",
         "2022-12-31T03:00:00.000+0000",
         "2022-12-31T01:00:00.000+0000",
         0,
         0
        ],
        [
         "YYZ",
         "2022-12-31T03:15:00.000+0000",
         "2022-12-31T01:15:00.000+0000",
         0,
         0
        ],
        [
         "YYZ",
         "2022-12-31T03:30:00.000+0000",
         "2022-12-31T01:30:00.000+0000",
         0,
         0
        ],
        [
         "YYZ",
         "2022-12-31T03:45:00.000+0000",
         "2022-12-31T01:45:00.000+0000",
         0,
         0
        ],
        [
         "YYZ",
         "2022-12-31T04:00:00.000+0000",
         "2022-12-31T02:00:00.000+0000",
         0,
         0
        ],
        [
         "YYZ",
         "2022-12-31T04:15:00.000+0000",
         "2022-12-31T02:15:00.000+0000",
         0,
         0
        ],
        [
         "YYZ",
         "2022-12-31T04:30:00.000+0000",
         "2022-12-31T02:30:00.000+0000",
         0,
         0
        ],
        [
         "YYZ",
         "2022-12-31T04:45:00.000+0000",
         "2022-12-31T02:45:00.000+0000",
         0,
         0
        ],
        [
         "YYZ",
         "2022-12-31T05:00:00.000+0000",
         "2022-12-31T03:00:00.000+0000",
         0,
         0
        ],
        [
         "YYZ",
         "2022-12-31T05:15:00.000+0000",
         "2022-12-31T03:15:00.000+0000",
         0,
         0
        ],
        [
         "YYZ",
         "2022-12-31T05:30:00.000+0000",
         "2022-12-31T03:30:00.000+0000",
         0,
         0
        ],
        [
         "YYZ",
         "2022-12-31T05:45:00.000+0000",
         "2022-12-31T03:45:00.000+0000",
         0,
         0
        ],
        [
         "YYZ",
         "2022-12-31T06:00:00.000+0000",
         "2022-12-31T04:00:00.000+0000",
         0,
         0
        ],
        [
         "YYZ",
         "2022-12-31T06:15:00.000+0000",
         "2022-12-31T04:15:00.000+0000",
         0,
         0
        ],
        [
         "YYZ",
         "2022-12-31T06:30:00.000+0000",
         "2022-12-31T04:30:00.000+0000",
         0,
         0
        ],
        [
         "YYZ",
         "2022-12-31T06:45:00.000+0000",
         "2022-12-31T04:45:00.000+0000",
         0,
         0
        ],
        [
         "YYZ",
         "2022-12-31T07:00:00.000+0000",
         "2022-12-31T05:00:00.000+0000",
         0,
         0
        ],
        [
         "YYZ",
         "2022-12-31T07:15:00.000+0000",
         "2022-12-31T05:15:00.000+0000",
         0,
         0
        ],
        [
         "YYZ",
         "2022-12-31T07:30:00.000+0000",
         "2022-12-31T05:30:00.000+0000",
         0,
         0
        ],
        [
         "YYZ",
         "2022-12-31T07:45:00.000+0000",
         "2022-12-31T05:45:00.000+0000",
         0,
         0
        ],
        [
         "YYZ",
         "2022-12-31T08:00:00.000+0000",
         "2022-12-31T06:00:00.000+0000",
         0,
         0
        ],
        [
         "YYZ",
         "2022-12-31T08:15:00.000+0000",
         "2022-12-31T06:15:00.000+0000",
         0,
         1
        ],
        [
         "YYZ",
         "2022-12-31T08:30:00.000+0000",
         "2022-12-31T06:30:00.000+0000",
         0,
         0
        ],
        [
         "YYZ",
         "2022-12-31T08:45:00.000+0000",
         "2022-12-31T06:45:00.000+0000",
         1,
         0
        ],
        [
         "YYZ",
         "2022-12-31T09:00:00.000+0000",
         "2022-12-31T07:00:00.000+0000",
         0,
         0
        ],
        [
         "YYZ",
         "2022-12-31T09:15:00.000+0000",
         "2022-12-31T07:15:00.000+0000",
         0,
         0
        ],
        [
         "YYZ",
         "2022-12-31T09:30:00.000+0000",
         "2022-12-31T07:30:00.000+0000",
         0,
         0
        ],
        [
         "YYZ",
         "2022-12-31T09:45:00.000+0000",
         "2022-12-31T07:45:00.000+0000",
         0,
         0
        ],
        [
         "YYZ",
         "2022-12-31T10:00:00.000+0000",
         "2022-12-31T08:00:00.000+0000",
         0,
         0
        ],
        [
         "YYZ",
         "2022-12-31T10:15:00.000+0000",
         "2022-12-31T08:15:00.000+0000",
         1,
         0
        ],
        [
         "YYZ",
         "2022-12-31T10:30:00.000+0000",
         "2022-12-31T08:30:00.000+0000",
         0,
         0
        ],
        [
         "YYZ",
         "2022-12-31T10:45:00.000+0000",
         "2022-12-31T08:45:00.000+0000",
         0,
         0
        ],
        [
         "YYZ",
         "2022-12-31T11:00:00.000+0000",
         "2022-12-31T09:00:00.000+0000",
         0,
         0
        ],
        [
         "YYZ",
         "2022-12-31T11:15:00.000+0000",
         "2022-12-31T09:15:00.000+0000",
         1,
         0
        ],
        [
         "YYZ",
         "2022-12-31T11:30:00.000+0000",
         "2022-12-31T09:30:00.000+0000",
         0,
         0
        ],
        [
         "YYZ",
         "2022-12-31T11:45:00.000+0000",
         "2022-12-31T09:45:00.000+0000",
         0,
         0
        ],
        [
         "YYZ",
         "2022-12-31T12:00:00.000+0000",
         "2022-12-31T10:00:00.000+0000",
         0,
         0
        ],
        [
         "YYZ",
         "2022-12-31T12:15:00.000+0000",
         "2022-12-31T10:15:00.000+0000",
         0,
         0
        ],
        [
         "YYZ",
         "2022-12-31T12:30:00.000+0000",
         "2022-12-31T10:30:00.000+0000",
         0,
         0
        ],
        [
         "YYZ",
         "2022-12-31T12:45:00.000+0000",
         "2022-12-31T10:45:00.000+0000",
         0,
         0
        ],
        [
         "YYZ",
         "2022-12-31T13:00:00.000+0000",
         "2022-12-31T11:00:00.000+0000",
         1,
         0
        ],
        [
         "YYZ",
         "2022-12-31T13:15:00.000+0000",
         "2022-12-31T11:15:00.000+0000",
         0,
         1
        ],
        [
         "YYZ",
         "2022-12-31T13:30:00.000+0000",
         "2022-12-31T11:30:00.000+0000",
         0,
         0
        ],
        [
         "YYZ",
         "2022-12-31T13:45:00.000+0000",
         "2022-12-31T11:45:00.000+0000",
         0,
         0
        ],
        [
         "YYZ",
         "2022-12-31T14:00:00.000+0000",
         "2022-12-31T12:00:00.000+0000",
         0,
         0
        ],
        [
         "YYZ",
         "2022-12-31T14:15:00.000+0000",
         "2022-12-31T12:15:00.000+0000",
         0,
         0
        ],
        [
         "YYZ",
         "2022-12-31T14:30:00.000+0000",
         "2022-12-31T12:30:00.000+0000",
         1,
         0
        ],
        [
         "YYZ",
         "2022-12-31T14:45:00.000+0000",
         "2022-12-31T12:45:00.000+0000",
         0,
         0
        ],
        [
         "YYZ",
         "2022-12-31T15:00:00.000+0000",
         "2022-12-31T13:00:00.000+0000",
         0,
         0
        ],
        [
         "YYZ",
         "2022-12-31T15:15:00.000+0000",
         "2022-12-31T13:15:00.000+0000",
         0,
         1
        ],
        [
         "YYZ",
         "2022-12-31T15:30:00.000+0000",
         "2022-12-31T13:30:00.000+0000",
         0,
         0
        ],
        [
         "YYZ",
         "2022-12-31T15:45:00.000+0000",
         "2022-12-31T13:45:00.000+0000",
         0,
         0
        ],
        [
         "YYZ",
         "2022-12-31T16:00:00.000+0000",
         "2022-12-31T14:00:00.000+0000",
         0,
         0
        ],
        [
         "YYZ",
         "2022-12-31T16:15:00.000+0000",
         "2022-12-31T14:15:00.000+0000",
         0,
         0
        ],
        [
         "YYZ",
         "2022-12-31T16:30:00.000+0000",
         "2022-12-31T14:30:00.000+0000",
         1,
         0
        ],
        [
         "YYZ",
         "2022-12-31T16:45:00.000+0000",
         "2022-12-31T14:45:00.000+0000",
         0,
         1
        ],
        [
         "YYZ",
         "2022-12-31T17:00:00.000+0000",
         "2022-12-31T15:00:00.000+0000",
         0,
         0
        ],
        [
         "YYZ",
         "2022-12-31T17:15:00.000+0000",
         "2022-12-31T15:15:00.000+0000",
         1,
         1
        ],
        [
         "YYZ",
         "2022-12-31T17:30:00.000+0000",
         "2022-12-31T15:30:00.000+0000",
         0,
         0
        ],
        [
         "YYZ",
         "2022-12-31T17:45:00.000+0000",
         "2022-12-31T15:45:00.000+0000",
         0,
         0
        ],
        [
         "YYZ",
         "2022-12-31T18:00:00.000+0000",
         "2022-12-31T16:00:00.000+0000",
         0,
         0
        ],
        [
         "YYZ",
         "2022-12-31T18:15:00.000+0000",
         "2022-12-31T16:15:00.000+0000",
         0,
         0
        ],
        [
         "YYZ",
         "2022-12-31T18:30:00.000+0000",
         "2022-12-31T16:30:00.000+0000",
         0,
         0
        ],
        [
         "YYZ",
         "2022-12-31T18:45:00.000+0000",
         "2022-12-31T16:45:00.000+0000",
         1,
         0
        ],
        [
         "YYZ",
         "2022-12-31T19:00:00.000+0000",
         "2022-12-31T17:00:00.000+0000",
         0,
         1
        ],
        [
         "YYZ",
         "2022-12-31T19:15:00.000+0000",
         "2022-12-31T17:15:00.000+0000",
         0,
         0
        ],
        [
         "YYZ",
         "2022-12-31T19:30:00.000+0000",
         "2022-12-31T17:30:00.000+0000",
         1,
         0
        ],
        [
         "YYZ",
         "2022-12-31T19:45:00.000+0000",
         "2022-12-31T17:45:00.000+0000",
         0,
         1
        ],
        [
         "YYZ",
         "2022-12-31T20:00:00.000+0000",
         "2022-12-31T18:00:00.000+0000",
         0,
         0
        ],
        [
         "YYZ",
         "2022-12-31T20:15:00.000+0000",
         "2022-12-31T18:15:00.000+0000",
         0,
         0
        ],
        [
         "YYZ",
         "2022-12-31T20:30:00.000+0000",
         "2022-12-31T18:30:00.000+0000",
         1,
         0
        ],
        [
         "YYZ",
         "2022-12-31T20:45:00.000+0000",
         "2022-12-31T18:45:00.000+0000",
         0,
         0
        ],
        [
         "YYZ",
         "2022-12-31T21:00:00.000+0000",
         "2022-12-31T19:00:00.000+0000",
         0,
         0
        ],
        [
         "YYZ",
         "2022-12-31T21:15:00.000+0000",
         "2022-12-31T19:15:00.000+0000",
         0,
         1
        ],
        [
         "YYZ",
         "2022-12-31T21:30:00.000+0000",
         "2022-12-31T19:30:00.000+0000",
         0,
         0
        ],
        [
         "YYZ",
         "2022-12-31T21:45:00.000+0000",
         "2022-12-31T19:45:00.000+0000",
         0,
         0
        ],
        [
         "YYZ",
         "2022-12-31T22:00:00.000+0000",
         "2022-12-31T20:00:00.000+0000",
         0,
         0
        ],
        [
         "YYZ",
         "2022-12-31T22:15:00.000+0000",
         "2022-12-31T20:15:00.000+0000",
         0,
         1
        ],
        [
         "YYZ",
         "2022-12-31T22:30:00.000+0000",
         "2022-12-31T20:30:00.000+0000",
         0,
         0
        ],
        [
         "YYZ",
         "2022-12-31T22:45:00.000+0000",
         "2022-12-31T20:45:00.000+0000",
         0,
         0
        ],
        [
         "YYZ",
         "2022-12-31T23:00:00.000+0000",
         "2022-12-31T21:00:00.000+0000",
         0,
         0
        ],
        [
         "YYZ",
         "2022-12-31T23:15:00.000+0000",
         "2022-12-31T21:15:00.000+0000",
         0,
         1
        ],
        [
         "YYZ",
         "2022-12-31T23:30:00.000+0000",
         "2022-12-31T21:30:00.000+0000",
         0,
         0
        ],
        [
         "YYZ",
         "2022-12-31T23:45:00.000+0000",
         "2022-12-31T21:45:00.000+0000",
         0,
         0
        ]
       ],
       "datasetInfos": [],
       "dbfsResultPath": null,
       "isJsonSchema": true,
       "metadata": {},
       "overflow": false,
       "plotOptions": {
        "customPlotOptions": {},
        "displayType": "table",
        "pivotAggregation": null,
        "pivotColumns": null,
        "xColumns": null,
        "yColumns": null
       },
       "removedWidgets": [],
       "schema": [
        {
         "metadata": "{}",
         "name": "airport_code",
         "type": "\"string\""
        },
        {
         "metadata": "{}",
         "name": "interval_date",
         "type": "\"timestamp\""
        },
        {
         "metadata": "{}",
         "name": "interval_date_minus_two_hours",
         "type": "\"timestamp\""
        },
        {
         "metadata": "{}",
         "name": "out",
         "type": "\"long\""
        },
        {
         "metadata": "{}",
         "name": "in",
         "type": "\"long\""
        }
       ],
       "type": "table"
      }
     },
     "output_type": "display_data"
    }
   ],
   "source": [
    "#Final dataset with flights in and out.\n",
    "df_final = df_flights_out\\\n",
    "            .join(df_flights_in, on = (df_flights_out.orig1 == df_flights_in.dest1) &\\\n",
    "                                    (df_flights_out.interval_date == df_flights_in.interval_date), how = 'inner')\\\n",
    "            .withColumn('interval_date_minus_two_hours', df_flights_out.interval_date - expr(\"INTERVAL 2 HOURS\"))\\\n",
    "            .select(col('orig1').alias('airport_code'), df_flights_out.interval_date, 'interval_date_minus_two_hours', 'out', 'in')\\\n",
    "            .groupby('airport_code', 'interval_date', 'interval_date_minus_two_hours')\\\n",
    "            .agg(sum('out').alias('out'), sum('in').alias('in'))\\\n",
    "            .orderBy('airport_code', 'interval_date')\n",
    "            \n",
    "display(df_final)            "
   ]
  },
  {
   "cell_type": "code",
   "execution_count": 0,
   "metadata": {
    "application/vnd.databricks.v1+cell": {
     "cellMetadata": {
      "byteLimit": 2048000,
      "rowLimit": 10000
     },
     "inputWidgets": {},
     "nuid": "c612d1a2-a6fb-4c94-b4ec-e4ffa70bc45f",
     "showTitle": false,
     "title": ""
    }
   },
   "outputs": [],
   "source": []
  }
 ],
 "metadata": {
  "application/vnd.databricks.v1+notebook": {
   "dashboards": [],
   "language": "python",
   "notebookMetadata": {
    "pythonIndentUnit": 4
   },
   "notebookName": "2023-10-13 - Excersise Pyspark",
   "widgets": {}
  }
 },
 "nbformat": 4,
 "nbformat_minor": 0
}
